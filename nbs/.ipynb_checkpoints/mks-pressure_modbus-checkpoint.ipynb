{
 "cells": [
  {
   "cell_type": "code",
   "execution_count": 2,
   "metadata": {},
   "outputs": [],
   "source": [
    "from pyModbusTCP.client import ModbusClient\n",
    "import time"
   ]
  },
  {
   "cell_type": "code",
   "execution_count": 4,
   "metadata": {},
   "outputs": [
    {
     "name": "stdout",
     "output_type": "stream",
     "text": [
      "Current Pressure: 58.78 psi\n",
      "Current Pressure: 59.33 psi\n",
      "Current Pressure: 59.42 psi\n",
      "Current Pressure: 59.33 psi\n",
      "Current Pressure: 59.33 psi\n",
      "Current Pressure: 59.05 psi\n",
      "Current Pressure: 58.60 psi\n",
      "Current Pressure: 58.60 psi\n",
      "Current Pressure: 58.50 psi\n",
      "Current Pressure: 58.60 psi\n",
      "Current Pressure: 58.60 psi\n",
      "Current Pressure: 58.78 psi\n"
     ]
    },
    {
     "ename": "KeyboardInterrupt",
     "evalue": "",
     "output_type": "error",
     "traceback": [
      "\u001b[1;31m---------------------------------------------------------------------------\u001b[0m",
      "\u001b[1;31mKeyboardInterrupt\u001b[0m                         Traceback (most recent call last)",
      "\u001b[1;32m<ipython-input-4-fd7486b3dacf>\u001b[0m in \u001b[0;36m<module>\u001b[1;34m\u001b[0m\n\u001b[0;32m     26\u001b[0m \u001b[1;33m\u001b[0m\u001b[0m\n\u001b[0;32m     27\u001b[0m     \u001b[1;31m# sleep 2s before next polling\u001b[0m\u001b[1;33m\u001b[0m\u001b[1;33m\u001b[0m\u001b[1;33m\u001b[0m\u001b[0m\n\u001b[1;32m---> 28\u001b[1;33m     \u001b[0mtime\u001b[0m\u001b[1;33m.\u001b[0m\u001b[0msleep\u001b[0m\u001b[1;33m(\u001b[0m\u001b[1;36m0.5\u001b[0m\u001b[1;33m)\u001b[0m\u001b[1;33m\u001b[0m\u001b[1;33m\u001b[0m\u001b[0m\n\u001b[0m",
      "\u001b[1;31mKeyboardInterrupt\u001b[0m: "
     ]
    }
   ],
   "source": [
    "SERVER_HOST = \"192.168.1.3\"\n",
    "SERVER_PORT = 502\n",
    "\n",
    "c = ModbusClient()\n",
    "\n",
    "# uncomment this line to see debug message\n",
    "#c.debug(True)\n",
    "\n",
    "# define modbus server host, port\n",
    "c.host(SERVER_HOST)\n",
    "c.port(SERVER_PORT)\n",
    "\n",
    "while True:\n",
    "    # open or reconnect TCP to server\n",
    "    if not c.is_open():\n",
    "        if not c.open():\n",
    "            print(\"unable to connect to \"+SERVER_HOST+\":\"+str(SERVER_PORT))\n",
    "\n",
    "    # if open() is ok, read coils (modbus function 0x01)\n",
    "    if c.is_open():\n",
    "        # read 10 bits at address 0, store result in regs list\n",
    "        pressure = c.read_input_registers(5000, 1)[0] # 5000 is analog output 1, see MKS PAC 100 manual\n",
    "        # if success display registers\n",
    "        if pressure:\n",
    "            print(\"Current Pressure: {:.2f} psi\".format(pressure/32767*3000)) # 32767 given by MKS * 3000psi\n",
    "\n",
    "    # sleep 2s before next polling\n",
    "    time.sleep(0.5)"
   ]
  },
  {
   "cell_type": "markdown",
   "metadata": {},
   "source": [
    "## Misc."
   ]
  },
  {
   "cell_type": "code",
   "execution_count": 2,
   "metadata": {},
   "outputs": [],
   "source": [
    "# TCP auto connect on first modbus request\n",
    "c = ModbusClient(host=\"192.168.1.3\", port=502, auto_open=True)"
   ]
  },
  {
   "cell_type": "code",
   "execution_count": 3,
   "metadata": {},
   "outputs": [
    {
     "data": {
      "text/plain": [
       "True"
      ]
     },
     "execution_count": 3,
     "metadata": {},
     "output_type": "execute_result"
    }
   ],
   "source": [
    "c = ModbusClient()\n",
    "c.host(\"192.168.1.3\")\n",
    "c.port(502)\n",
    "# managing TCP sessions with call to c.open()/c.close()\n",
    "c.open()"
   ]
  },
  {
   "cell_type": "code",
   "execution_count": null,
   "metadata": {},
   "outputs": [],
   "source": [
    "if c.open():\n",
    "    thermocouple_type = c.read_holding_registers(11000, 1)\n",
    "    mfg_info = c.read_holding_registers(60000, 27)\n",
    "    dev_cfg = c.read_holding_registers(10000, 6)  \n",
    "    c.close()"
   ]
  },
  {
   "cell_type": "code",
   "execution_count": null,
   "metadata": {},
   "outputs": [],
   "source": []
  }
 ],
 "metadata": {
  "kernelspec": {
   "display_name": "Python 3",
   "language": "python",
   "name": "python3"
  },
  "language_info": {
   "codemirror_mode": {
    "name": "ipython",
    "version": 3
   },
   "file_extension": ".py",
   "mimetype": "text/x-python",
   "name": "python",
   "nbconvert_exporter": "python",
   "pygments_lexer": "ipython3",
   "version": "3.7.6"
  }
 },
 "nbformat": 4,
 "nbformat_minor": 2
}
