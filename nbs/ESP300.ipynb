{
 "cells": [
  {
   "cell_type": "code",
   "execution_count": 1,
   "metadata": {},
   "outputs": [],
   "source": [
    "from pymeasure.instruments.newport import ESP300\n",
    "from pymeasure.instruments import list_resources\n",
    "\n",
    "from pymeasure.display import widgets as pw\n",
    "from pymeasure.display.inputs import *\n",
    "\n",
    "import ftd2xx  # Thorlabs MFF101\n",
    "import ftd2xx.defines as constants\n",
    "from ftd2xx import listDevices, getDeviceInfoDetail\n",
    "\n",
    "import pymeasure.experiment.parameters as pars\n",
    "\n",
    "from time import sleep\n",
    "from pymeasure.experiment import Procedure\n",
    "from pymeasure.experiment import IntegerParameter"
   ]
  },
  {
   "cell_type": "code",
   "execution_count": null,
   "metadata": {},
   "outputs": [],
   "source": [
    "params = pars.FloatParameter(ps,units='mm')"
   ]
  },
  {
   "cell_type": "code",
   "execution_count": null,
   "metadata": {},
   "outputs": [],
   "source": [
    "pars.ListParameter(ps)"
   ]
  },
  {
   "cell_type": "code",
   "execution_count": null,
   "metadata": {},
   "outputs": [],
   "source": [
    "from __future__ import print_function\n",
    "from ipywidgets import interact, interactive, fixed, interact_manual\n",
    "import ipywidgets as widgets"
   ]
  },
  {
   "cell_type": "code",
   "execution_count": null,
   "metadata": {},
   "outputs": [],
   "source": [
    "ctrl.FloatInput.set_parameter()"
   ]
  },
  {
   "cell_type": "code",
   "execution_count": null,
   "metadata": {},
   "outputs": [],
   "source": [
    "pymeasure.display.inputs"
   ]
  },
  {
   "cell_type": "code",
   "execution_count": null,
   "metadata": {},
   "outputs": [],
   "source": [
    "ps = x.position"
   ]
  },
  {
   "cell_type": "code",
   "execution_count": 2,
   "metadata": {},
   "outputs": [
    {
     "name": "stderr",
     "output_type": "stream",
     "text": [
      "C:\\Users\\labuser\\Anaconda3\\envs\\controller\\lib\\site-packages\\pyvisa\\resources\\messagebased.py:573: FutureWarning: ask is deprecated and will be removed in 1.10, use query instead.\n",
      "  '1.10, use query instead.', FutureWarning)\n"
     ]
    },
    {
     "name": "stdout",
     "output_type": "stream",
     "text": [
      "0 : USB0::0x1313::0x8072::P2010852::INSTR : Thorlabs,PM100USB,P2010852,1.6.0\n",
      "1 : ASRL1::INSTR : Not known\n",
      "2 : ASRL3::INSTR : Not known\n",
      "3 : ASRL6::INSTR :  \n",
      "4 : GPIB0::3::INSTR : ESP300 Version 3.08 09/09/02\n"
     ]
    }
   ],
   "source": [
    "resources = list_resources()"
   ]
  },
  {
   "cell_type": "code",
   "execution_count": 3,
   "metadata": {},
   "outputs": [
    {
     "data": {
      "text/plain": [
       "[b'37000805', b'18031043']"
      ]
     },
     "execution_count": 3,
     "metadata": {},
     "output_type": "execute_result"
    }
   ],
   "source": [
    "FTDIresources = listDevices()\n",
    "FTDIresources"
   ]
  },
  {
   "cell_type": "code",
   "execution_count": null,
   "metadata": {},
   "outputs": [],
   "source": [
    "getDeviceInfoDetail(1)"
   ]
  },
  {
   "cell_type": "markdown",
   "metadata": {},
   "source": [
    "## Laser on/off"
   ]
  },
  {
   "cell_type": "code",
   "execution_count": 4,
   "metadata": {},
   "outputs": [],
   "source": [
    "serial = FTDIresources[0]"
   ]
  },
  {
   "cell_type": "code",
   "execution_count": 5,
   "metadata": {},
   "outputs": [],
   "source": [
    "def laser(switch):\n",
    "    \"\"\"Switch 'on' or 'off'\"\"\"\n",
    "    serial = FTDIresources[0]\n",
    "    # Raw byte commands for \"MGMSG_MOT_MOVE_JOG\".\n",
    "#     on = b\"\\x6A\\x04\\x00\\x01\\x21\\x01\"  # x01 up\n",
    "#     off = b\"\\x6A\\x04\\x00\\x02\\x21\\x01\"  # x02 down\n",
    "    \n",
    "    if switch == 'on':\n",
    "        motor = ftd2xx.openEx(serial)\n",
    "        print(motor.getDeviceInfo())\n",
    "        motor.setBaudRate(115200)\n",
    "        motor.setDataCharacteristics(constants.BITS_8, constants.STOP_BITS_1, constants.PARITY_NONE)\n",
    "        sleep(.05)\n",
    "        motor.purge()\n",
    "        sleep(.05)\n",
    "        motor.resetDevice()\n",
    "        motor.setFlowControl(constants.FLOW_RTS_CTS, 0, 0)\n",
    "        motor.setRts()\n",
    "\n",
    "        # Send raw bytes to USB driver.\n",
    "        motor.write(b\"\\x6A\\x04\\x00\\x01\\x21\\x01\")  # up or \n",
    "        motor.close()\n",
    "    else:\n",
    "        motor = ftd2xx.openEx(serial)\n",
    "        print(motor.getDeviceInfo())\n",
    "        motor.setBaudRate(115200)\n",
    "        motor.setDataCharacteristics(constants.BITS_8, constants.STOP_BITS_1, constants.PARITY_NONE)\n",
    "        sleep(.05)\n",
    "        motor.purge()\n",
    "        sleep(.05)\n",
    "        motor.resetDevice()\n",
    "        motor.setFlowControl(constants.FLOW_RTS_CTS, 0, 0)\n",
    "        motor.setRts()\n",
    "\n",
    "        # Send raw bytes to USB driver.\n",
    "        motor.write(b\"\\x6A\\x04\\x00\\x02\\x21\\x01\")  # up or \n",
    "        motor.close()"
   ]
  },
  {
   "cell_type": "code",
   "execution_count": 6,
   "metadata": {},
   "outputs": [
    {
     "name": "stdout",
     "output_type": "stream",
     "text": [
      "{'type': 5, 'id': 67369712, 'description': b'APT Filter Flipper', 'serial': b'37000805'}\n"
     ]
    }
   ],
   "source": [
    "laser('off')"
   ]
  },
  {
   "cell_type": "markdown",
   "metadata": {},
   "source": [
    "## XYZ Control"
   ]
  },
  {
   "cell_type": "code",
   "execution_count": 7,
   "metadata": {},
   "outputs": [],
   "source": [
    "ctrl = ESP300(\"GPIB0::3::INSTR\")"
   ]
  },
  {
   "cell_type": "code",
   "execution_count": 8,
   "metadata": {},
   "outputs": [],
   "source": [
    "ctrl.data_bits=8\n",
    "ctrl.baud_rate=19200\n",
    "ctrl.StopBits=1\n",
    "ctrl.read_termination='\\r\\n'\n",
    "ctrl.write_termination='\\r'"
   ]
  },
  {
   "cell_type": "code",
   "execution_count": 9,
   "metadata": {},
   "outputs": [],
   "source": [
    "x = ctrl.x  # Our x-axis is motor 1 or y\n",
    "y = ctrl.y  # Our y-axis is motor 2 or x\n",
    "z = ctrl.phi  # 3"
   ]
  },
  {
   "cell_type": "code",
   "execution_count": 25,
   "metadata": {},
   "outputs": [
    {
     "data": {
      "text/plain": [
       "[4.99999, 3.99999, 4.27362]"
      ]
     },
     "execution_count": 25,
     "metadata": {},
     "output_type": "execute_result"
    }
   ],
   "source": [
    "pos = [x.position, y.position, z.position]\n",
    "pos"
   ]
  },
  {
   "cell_type": "code",
   "execution_count": 26,
   "metadata": {},
   "outputs": [
    {
     "name": "stdout",
     "output_type": "stream",
     "text": [
      "{'type': 5, 'id': 67369712, 'description': b'APT Filter Flipper', 'serial': b'37000805'}\n",
      "{'type': 5, 'id': 67369712, 'description': b'APT Filter Flipper', 'serial': b'37000805'}\n"
     ]
    },
    {
     "data": {
      "text/plain": [
       "4.50013"
      ]
     },
     "execution_count": 26,
     "metadata": {},
     "output_type": "execute_result"
    }
   ],
   "source": [
    "x.velocity = 0.1\n",
    "laser('on')\n",
    "x.wait(500)\n",
    "x.position = 4.5\n",
    "while not x.motion_done:\n",
    "    sleep(.05)\n",
    "# x.wait_for_stop()\n",
    "laser('off')\n",
    "x.position"
   ]
  },
  {
   "cell_type": "code",
   "execution_count": null,
   "metadata": {},
   "outputs": [],
   "source": [
    "ctrl.shutdown"
   ]
  },
  {
   "cell_type": "code",
   "execution_count": null,
   "metadata": {},
   "outputs": [],
   "source": []
  },
  {
   "cell_type": "markdown",
   "metadata": {},
   "source": [
    "### GUI"
   ]
  },
  {
   "cell_type": "code",
   "execution_count": null,
   "metadata": {},
   "outputs": [],
   "source": [
    "from time import sleep\n",
    "from pymeasure.experiment import Procedure\n",
    "from pymeasure.experiment import IntegerParameter"
   ]
  },
  {
   "cell_type": "code",
   "execution_count": null,
   "metadata": {},
   "outputs": [],
   "source": [
    "class SimpleProcedure(Procedure):\n",
    "\n",
    "    # a Parameter that defines the number of loop iterations\n",
    "    iterations = IntegerParameter('Loop Iterations')\n",
    "\n",
    "    # a list defining the order and appearance of columns in our data file\n",
    "    DATA_COLUMNS = ['Iteration']\n",
    "\n",
    "    def execute(self):\n",
    "        \"\"\" Loops over each iteration and emits the current iteration,\n",
    "        before waiting for 0.01 sec, and then checking if the procedure\n",
    "        should stop\n",
    "        \"\"\"\n",
    "        for i in range(self.iterations):\n",
    "            self.emit('results', {'Iteration': i})\n",
    "            sleep(0.01)\n",
    "            if self.should_stop():\n",
    "                break"
   ]
  },
  {
   "cell_type": "code",
   "execution_count": null,
   "metadata": {},
   "outputs": [],
   "source": [
    "procedure = SimpleProcedure()\n",
    "procedure.iterations = 100"
   ]
  },
  {
   "cell_type": "code",
   "execution_count": null,
   "metadata": {},
   "outputs": [],
   "source": [
    "from pymeasure.experiment import Results\n",
    "\n",
    "data_filename = 'example.csv'\n",
    "results = Results(procedure, data_filename)"
   ]
  },
  {
   "cell_type": "code",
   "execution_count": null,
   "metadata": {},
   "outputs": [],
   "source": [
    "from pymeasure.experiment import Worker\n",
    "\n",
    "worker = Worker(results)"
   ]
  },
  {
   "cell_type": "code",
   "execution_count": null,
   "metadata": {},
   "outputs": [],
   "source": [
    "worker.start()"
   ]
  },
  {
   "cell_type": "code",
   "execution_count": null,
   "metadata": {},
   "outputs": [],
   "source": [
    "worker.join(timeout=3600) # wait at most 1 hr (3600 sec)"
   ]
  },
  {
   "cell_type": "code",
   "execution_count": null,
   "metadata": {},
   "outputs": [],
   "source": [
    "import logging\n",
    "log = logging.getLogger(__name__)\n",
    "log.addHandler(logging.NullHandler())\n",
    "\n",
    "from time import sleep\n",
    "from pymeasure.log import console_log\n",
    "from pymeasure.experiment import Procedure, Results, Worker\n",
    "from pymeasure.experiment import IntegerParameter\n",
    "\n",
    "class SimpleProcedure(Procedure):\n",
    "\n",
    "    iterations = IntegerParameter('Loop Iterations')\n",
    "\n",
    "    DATA_COLUMNS = ['Iteration']\n",
    "\n",
    "    def execute(self):\n",
    "        log.info(\"Starting the loop of %d iterations\" % self.iterations)\n",
    "        for i in range(self.iterations):\n",
    "            data = {'Iteration': i}\n",
    "            self.emit('results', data)\n",
    "            log.debug(\"Emitting results: %s\" % data)\n",
    "            sleep(0.01)\n",
    "            if self.should_stop():\n",
    "                log.warning(\"Caught the stop flag in the procedure\")\n",
    "                break\n",
    "\n",
    "if __name__ == \"__main__\":\n",
    "    console_log(log)\n",
    "\n",
    "    log.info(\"Constructing a SimpleProcedure\")\n",
    "    procedure = SimpleProcedure()\n",
    "    procedure.iterations = 100\n",
    "\n",
    "    data_filename = 'example2.csv'\n",
    "    log.info(\"Constructing the Results with a data file: %s\" % data_filename)\n",
    "    results = Results(procedure, data_filename)\n",
    "\n",
    "    log.info(\"Constructing the Worker\")\n",
    "    worker = Worker(results)\n",
    "    worker.start()\n",
    "    log.info(\"Started the Worker\")\n",
    "\n",
    "    log.info(\"Joining with the worker in at most 1 hr\")\n",
    "    worker.join(timeout=3600) # wait at most 1 hr (3600 sec)\n",
    "    log.info(\"Finished the measurement\")"
   ]
  },
  {
   "cell_type": "code",
   "execution_count": null,
   "metadata": {},
   "outputs": [],
   "source": [
    "import logging\n",
    "log = logging.getLogger(__name__)\n",
    "log.addHandler(logging.NullHandler())\n",
    "\n",
    "from pymeasure.log import console_log\n",
    "from pymeasure.instruments.newport import ESP300\n",
    "from pymeasure.experiment import Procedure, Results, Worker\n",
    "from pymeasure.experiment import IntegerParameter, FloatParameter\n",
    "from time import sleep\n",
    "\n",
    "from pdb import set_trace\n",
    "\n",
    "class XYProcedure(Procedure):\n",
    "    \n",
    "    data_pts = IntegerParameter('Data points', default=0)\n",
    "    max_pos = FloatParameter('Max Position', units='mm', default=5.0)\n",
    "    min_pos = FloatParameter('Min Position', units='mm', default=4.5)\n",
    "\n",
    "    DATA_COLUMNS = ['X (mm)']\n",
    "\n",
    "    def startup(self):\n",
    "        log.info('Connecting and configuring instruments')\n",
    "        self.ctrl = ESP300(\"GPIB0::3::INSTR\")\n",
    "        \n",
    "#         self.ctrl.data_bits = 8\n",
    "#         self.ctrl.baud_rate = 19200\n",
    "#         self.ctrl.StopBits = 1\n",
    "#         self.ctrl.read_termination = '\\r\\n'\n",
    "#         self.ctrl.write_termination = '\\r'\n",
    "#         self.ctrl.x = x  # Our x-axis is motor 1 or y\n",
    "#         self.ctrl.y = y  # Our y-axis is motor 2 or x\n",
    "#         self.ctrl.phi = z  # 3\n",
    "    \n",
    "    def execute(self):\n",
    "        positions = np.linspace(\n",
    "            self.max_pos,\n",
    "            self.min_pos,\n",
    "            num=self.data_pts\n",
    "        )\n",
    "        \n",
    "        for position in positions:\n",
    "            log.info(\"Reading the position to %g mm\" % position)\n",
    "            self.ctrl.x.position = position\n",
    "            sleep(0.1)\n",
    "            \n",
    "            \n",
    "            self.emit('results',{\n",
    "                'Position (mm)': position\n",
    "            })\n",
    "            sleep(0.01)\n",
    "            if self.should_stop():\n",
    "                log.info(\"User aborted the procedure\")\n",
    "                break\n",
    "                \n",
    "    def shutdown(self):\n",
    "        self.ctrl.shutdown()\n",
    "\n",
    "if __name__ == \"__main__\":\n",
    "    set_trace()\n",
    "    console_log(log)\n",
    "\n",
    "    log.info(\"Constructing the XYProcedure\")\n",
    "    procedure = XYProcedure()\n",
    "    procedure.data_pts = 10\n",
    "    procedure.max_pos = 4.5\n",
    "    procedure.min_pos = 5.0\n",
    "\n",
    "    data_filename = 'test.csv'\n",
    "    log.info(\"Constructing the Results with a data file: %s\" % data_filename)\n",
    "    results = Results(procedure, data_filename)\n",
    "\n",
    "    log.info(\"Constructing the Worker\")\n",
    "    worker = Worker(results)\n",
    "    worker.start()\n",
    "    log.info(\"Started the Worker\")\n",
    "\n",
    "    log.info(\"Joining with the worker in at most 1 hr\")\n",
    "    worker.join(timeout=3600) # wait at most 1 hr (3600 sec)\n",
    "    log.info(\"Finished the measurement\")"
   ]
  },
  {
   "cell_type": "code",
   "execution_count": null,
   "metadata": {},
   "outputs": [],
   "source": [
    "ctrl.write('1HN2,1')  # y, x grouped for simultaneous movement\n",
    "ctrl.ask('TB') "
   ]
  },
  {
   "cell_type": "code",
   "execution_count": null,
   "metadata": {},
   "outputs": [],
   "source": [
    "ctrl.write('2HN1,2')  # TODO: can't assign group #2, out of range ?\n",
    "ctrl.ask('TB')"
   ]
  },
  {
   "cell_type": "code",
   "execution_count": null,
   "metadata": {},
   "outputs": [],
   "source": [
    "#to create new group\n",
    "ctrl.write('1HX')\n",
    "ctrl.write('2HN2,3')  # y, z"
   ]
  },
  {
   "cell_type": "code",
   "execution_count": null,
   "metadata": {},
   "outputs": [],
   "source": [
    "ctrl.write('1HX')  # delete group #1"
   ]
  },
  {
   "cell_type": "code",
   "execution_count": null,
   "metadata": {},
   "outputs": [],
   "source": [
    "ctrl.ask('HB')"
   ]
  },
  {
   "cell_type": "code",
   "execution_count": null,
   "metadata": {},
   "outputs": [],
   "source": [
    "ctrl.ask('1HN?')"
   ]
  },
  {
   "cell_type": "code",
   "execution_count": null,
   "metadata": {},
   "outputs": [],
   "source": [
    "ctrl.ask('1VU?')  # ask whats max group vel for instrument"
   ]
  },
  {
   "cell_type": "code",
   "execution_count": null,
   "metadata": {},
   "outputs": [],
   "source": [
    "ctrl.ask('1HV?')  # current group vel"
   ]
  },
  {
   "cell_type": "code",
   "execution_count": null,
   "metadata": {},
   "outputs": [],
   "source": [
    "ctrl.write('1HV0.2')"
   ]
  },
  {
   "cell_type": "code",
   "execution_count": null,
   "metadata": {},
   "outputs": [],
   "source": [
    "ctrl.ask('1HP?')  # current group pos"
   ]
  },
  {
   "cell_type": "code",
   "execution_count": null,
   "metadata": {},
   "outputs": [],
   "source": [
    "ctrl.write('2HO')"
   ]
  },
  {
   "cell_type": "markdown",
   "metadata": {},
   "source": [
    "TODO:  move both xy axes simultaneously; currently exceeds threshold."
   ]
  },
  {
   "cell_type": "code",
   "execution_count": null,
   "metadata": {},
   "outputs": [],
   "source": [
    "ctrl.write('1HL8,4')\n",
    "ctrl.ask('TB') "
   ]
  },
  {
   "cell_type": "code",
   "execution_count": null,
   "metadata": {},
   "outputs": [],
   "source": [
    "x.enabled"
   ]
  },
  {
   "cell_type": "code",
   "execution_count": null,
   "metadata": {},
   "outputs": [],
   "source": [
    "x.velocity  # get current scanning speed"
   ]
  },
  {
   "cell_type": "code",
   "execution_count": null,
   "metadata": {},
   "outputs": [],
   "source": [
    "x.velocity = 0.4  # set scanning speed"
   ]
  },
  {
   "cell_type": "code",
   "execution_count": null,
   "metadata": {},
   "outputs": [],
   "source": [
    "x.position  # get position"
   ]
  },
  {
   "cell_type": "markdown",
   "metadata": {},
   "source": [
    "Problem: when xy axes assigned to group #1, single axes movement not allowed.\n",
    "Solution: after XY motion done, delete group.\n"
   ]
  },
  {
   "cell_type": "code",
   "execution_count": null,
   "metadata": {},
   "outputs": [],
   "source": [
    "x.position = 8 # move to position  \n",
    "ctrl.ask('TB') "
   ]
  },
  {
   "cell_type": "code",
   "execution_count": null,
   "metadata": {},
   "outputs": [],
   "source": []
  }
 ],
 "metadata": {
  "kernelspec": {
   "display_name": "Python 3",
   "language": "python",
   "name": "python3"
  },
  "language_info": {
   "codemirror_mode": {
    "name": "ipython",
    "version": 3
   },
   "file_extension": ".py",
   "mimetype": "text/x-python",
   "name": "python",
   "nbconvert_exporter": "python",
   "pygments_lexer": "ipython3",
   "version": "3.7.2"
  }
 },
 "nbformat": 4,
 "nbformat_minor": 2
}
