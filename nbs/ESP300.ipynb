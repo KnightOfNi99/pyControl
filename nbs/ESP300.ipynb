{
 "cells": [
  {
   "cell_type": "code",
   "execution_count": 1,
   "metadata": {},
   "outputs": [],
   "source": [
    "from pymeasure.instruments.newport import ESP300\n",
    "from pymeasure.instruments import Instrument\n",
    "from pymeasure.instruments.validators import strict_discrete_set\n",
    "from pymeasure.instruments import list_resources\n",
    "import pymeasure.adapters\n",
    "import visa\n",
    "\n",
    "from pyvisa.constants import StopBits, Parity\n",
    "\n",
    "from newportESP import ESP, Axis"
   ]
  },
  {
   "cell_type": "code",
   "execution_count": 7,
   "metadata": {},
   "outputs": [
    {
     "name": "stderr",
     "output_type": "stream",
     "text": [
      "C:\\Users\\labuser\\Anaconda3\\envs\\controller\\lib\\site-packages\\pyvisa\\resources\\messagebased.py:573: FutureWarning: ask is deprecated and will be removed in 1.10, use query instead.\n",
      "  '1.10, use query instead.', FutureWarning)\n"
     ]
    },
    {
     "name": "stdout",
     "output_type": "stream",
     "text": [
      "0 : USB0::0x1313::0x8072::P2010852::INSTR : Thorlabs,PM100USB,P2010852,1.6.0\n",
      "1 : ASRL1::INSTR : Not known\n",
      "2 : ASRL3::INSTR : Not known\n",
      "3 : ASRL6::INSTR :  *IDN? ? \n",
      "4 : GPIB0::3::INSTR : ESP300 Version 3.08 09/09/02\n"
     ]
    }
   ],
   "source": [
    "resources = list_resources()"
   ]
  },
  {
   "cell_type": "markdown",
   "metadata": {},
   "source": [
    "## Read Instrument"
   ]
  },
  {
   "cell_type": "code",
   "execution_count": 2,
   "metadata": {},
   "outputs": [],
   "source": [
    "ctrl = ESP300(\"GPIB0::3::INSTR\")"
   ]
  },
  {
   "cell_type": "code",
   "execution_count": 3,
   "metadata": {},
   "outputs": [],
   "source": [
    "ctrl.data_bits=8\n",
    "ctrl.baud_rate=19200\n",
    "ctrl.StopBits=1\n",
    "ctrl.read_termination='\\r\\n'\n",
    "ctrl.write_termination='\\r'"
   ]
  },
  {
   "cell_type": "code",
   "execution_count": 4,
   "metadata": {},
   "outputs": [],
   "source": [
    "x = ctrl.x\n",
    "y = ctrl.y\n",
    "z = ctrl.phi"
   ]
  },
  {
   "cell_type": "code",
   "execution_count": 5,
   "metadata": {},
   "outputs": [
    {
     "data": {
      "text/plain": [
       "[0.0, 1.99999, 11.75363]"
      ]
     },
     "execution_count": 5,
     "metadata": {},
     "output_type": "execute_result"
    }
   ],
   "source": [
    "pos = [x.position, y.position, z.position]\n",
    "pos"
   ]
  },
  {
   "cell_type": "code",
   "execution_count": 6,
   "metadata": {},
   "outputs": [
    {
     "data": {
      "text/plain": [
       "0.0"
      ]
     },
     "execution_count": 6,
     "metadata": {},
     "output_type": "execute_result"
    }
   ],
   "source": [
    "x.velocity  # get current scanning speed"
   ]
  },
  {
   "cell_type": "code",
   "execution_count": 18,
   "metadata": {},
   "outputs": [],
   "source": [
    "x.velocity = 0.4  # set scanning speed"
   ]
  },
  {
   "cell_type": "code",
   "execution_count": 19,
   "metadata": {},
   "outputs": [
    {
     "data": {
      "text/plain": [
       "1.99999"
      ]
     },
     "execution_count": 19,
     "metadata": {},
     "output_type": "execute_result"
    }
   ],
   "source": [
    "x.position  # get position"
   ]
  },
  {
   "cell_type": "code",
   "execution_count": 20,
   "metadata": {},
   "outputs": [],
   "source": [
    "x.position = 0  # move to position"
   ]
  },
  {
   "cell_type": "code",
   "execution_count": null,
   "metadata": {},
   "outputs": [],
   "source": []
  },
  {
   "cell_type": "code",
   "execution_count": null,
   "metadata": {},
   "outputs": [],
   "source": [
    "data_bits=8, baud_rate = 19200, stop_bits=1, read_termination='\\r\\n', write_termination='\\r'"
   ]
  },
  {
   "cell_type": "code",
   "execution_count": null,
   "metadata": {},
   "outputs": [],
   "source": [
    "ctrl.reset()"
   ]
  },
  {
   "cell_type": "code",
   "execution_count": null,
   "metadata": {},
   "outputs": [],
   "source": [
    "ctrl.disable()"
   ]
  },
  {
   "cell_type": "code",
   "execution_count": null,
   "metadata": {},
   "outputs": [],
   "source": [
    "def wait(self):\n",
    "    \"\"\"This method will block until current motion is finished.\"\"\"\n",
    "    while self.moving:\n",
    "      sleep(self.polling_time)\n",
    "  \n",
    "  #catch_error\n",
    "def move_to(self, pos, wait=False): \n",
    "    \"\"\"Go to absolute position.\n",
    "    \n",
    "    :param pos: the final position (in mm)\n",
    "    :type pos: float\n",
    "    :param wait: whether to block until the motion is finished\n",
    "    :type wait: bool\n",
    "    \"\"\"\n",
    "    self.write(\"PA\" + str(pos))\n",
    "    if wait:\n",
    "      self.wait()"
   ]
  }
 ],
 "metadata": {
  "kernelspec": {
   "display_name": "Python 3",
   "language": "python",
   "name": "python3"
  },
  "language_info": {
   "codemirror_mode": {
    "name": "ipython",
    "version": 3
   },
   "file_extension": ".py",
   "mimetype": "text/x-python",
   "name": "python",
   "nbconvert_exporter": "python",
   "pygments_lexer": "ipython3",
   "version": "3.7.2"
  }
 },
 "nbformat": 4,
 "nbformat_minor": 2
}
