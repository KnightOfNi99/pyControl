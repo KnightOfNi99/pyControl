{
 "cells": [
  {
   "cell_type": "code",
   "execution_count": 1,
   "metadata": {},
   "outputs": [
    {
     "name": "stderr",
     "output_type": "stream",
     "text": [
      "C:\\Users\\UWAdmin\\Anaconda3\\envs\\controller2\\lib\\site-packages\\pysftp-0.2.9-py3.7.egg\\pysftp\\__init__.py:61: UserWarning: Failed to load HostKeys from C:\\Users\\UWAdmin\\.ssh\\known_hosts.  You will need to explicitly load HostKeys (cnopts.hostkeys.load(filename)) or disableHostKey checking (cnopts.hostkeys = None).\n"
     ]
    }
   ],
   "source": [
    "from newportxps import NewportXPS\n",
    "from newportxps.XPS_C8_drivers import XPS, XPSException"
   ]
  },
  {
   "cell_type": "code",
   "execution_count": 5,
   "metadata": {},
   "outputs": [],
   "source": [
    "xpsd_ipaddress = '192.168.254.254'\n",
    "hostname = 'XPS-1b81'\n",
    "# fn = r'C:\\Users\\UWAdmin\\.ssh\\known_hosts\\ssh-xps.pub'\n",
    "# fn = \"C:\\Users\\UWAdmin\\.ssh\\ECDSA_public_known_hosts.rdC1zujkQ4\"\n",
    "\n",
    "# cnopts = pysftp.CnOpts()\n",
    "\n",
    "# # cnopts = pysftp.CnOpts(knownhosts='known_hosts')\n",
    "\n",
    "# # cnopts.get_hostkey(xpsd_ipaddress)\n",
    "# cnopts.hostkeys.load(fn)\n",
    "\n",
    "# cnopts.hostkeys = None # disable hostkey checking. Warning: Security risk."
   ]
  },
  {
   "cell_type": "code",
   "execution_count": 6,
   "metadata": {},
   "outputs": [],
   "source": [
    "xps = NewportXPS(hostname)"
   ]
  },
  {
   "cell_type": "code",
   "execution_count": 7,
   "metadata": {},
   "outputs": [
    {
     "name": "stdout",
     "output_type": "stream",
     "text": [
      "# XPS host:         192.168.254.254 (XPS-1B81)\n",
      "# Firmware:         XPS-D-N13019\n",
      "# Current Time:     Thu Jul 30 16:45:10 2020\n",
      "# Last Reboot:      Thu Jul 30 10:11:14 2020\n",
      "# Trajectory Group: None\n",
      "# Groups and Stages\n",
      "Z (singleaxisinuse), Status: Not initialized state\n",
      "   Z.Z-MFA (MFA@MFA-CC@XPS-DRV11)\n",
      "      Hardware Status: ZM low level\n",
      "      Positioner Errors: OK\n",
      "XY (xyinuse), Status: Not initialized state due to an emergency brake : see positioner error\n",
      "   XY.X-MFA (MFA@MFA-CC@XPS-DRV11)\n",
      "      Hardware Status: ZM low level\n",
      "      Positioner Errors: OK\n",
      "   XY.Y-MFA (MFA@MFA-CC@XPS-DRV11)\n",
      "      Hardware Status: ZM low level\n",
      "      Positioner Errors: OK\n"
     ]
    }
   ],
   "source": [
    "print(xps.status_report())"
   ]
  },
  {
   "cell_type": "code",
   "execution_count": 8,
   "metadata": {},
   "outputs": [
    {
     "name": "stdout",
     "output_type": "stream",
     "text": [
      "Z OrderedDict([('category', 'singleaxisinuse'), ('positioners', ['Z-MFA'])])\n",
      "XY OrderedDict([('category', 'xyinuse'), ('positioners', ['X-MFA', 'Y-MFA'])])\n"
     ]
    }
   ],
   "source": [
    "for gname, info in xps.groups.items():\n",
    "    print(gname, info)"
   ]
  },
  {
   "cell_type": "code",
   "execution_count": 9,
   "metadata": {},
   "outputs": [
    {
     "name": "stdout",
     "output_type": "stream",
     "text": [
      "Z.Z-MFA 1.76994e-05 {'stagetype': 'MFA@MFA-CC@XPS-DRV11', 'max_velo': 2.5, 'max_accel': 3.3333333333333335, 'low_limit': -0.0001, 'high_limit': 25}\n",
      "XY.X-MFA 0 {'stagetype': 'MFA@MFA-CC@XPS-DRV11', 'max_velo': 2.5, 'max_accel': 3.3333333333333335, 'low_limit': -0.0001, 'high_limit': 25}\n",
      "XY.Y-MFA 3.53988e-05 {'stagetype': 'MFA@MFA-CC@XPS-DRV11', 'max_velo': 2.5, 'max_accel': 3.3333333333333335, 'low_limit': -0.0001, 'high_limit': 25}\n"
     ]
    }
   ],
   "source": [
    "for sname, info in xps.stages.items():\n",
    "    print(sname, xps.get_stage_position(sname), info)"
   ]
  },
  {
   "cell_type": "code",
   "execution_count": null,
   "metadata": {},
   "outputs": [],
   "source": [
    "xps."
   ]
  },
  {
   "cell_type": "code",
   "execution_count": null,
   "metadata": {},
   "outputs": [],
   "source": []
  },
  {
   "cell_type": "code",
   "execution_count": null,
   "metadata": {},
   "outputs": [],
   "source": []
  },
  {
   "cell_type": "code",
   "execution_count": null,
   "metadata": {},
   "outputs": [],
   "source": []
  },
  {
   "cell_type": "code",
   "execution_count": null,
   "metadata": {},
   "outputs": [],
   "source": [
    "for k,v in xps.groups:\n",
    "    print (k,v)"
   ]
  },
  {
   "cell_type": "code",
   "execution_count": null,
   "metadata": {},
   "outputs": [],
   "source": [
    "type(xps.groups)"
   ]
  },
  {
   "cell_type": "code",
   "execution_count": null,
   "metadata": {},
   "outputs": [],
   "source": [
    "len(xps.groups)"
   ]
  },
  {
   "cell_type": "code",
   "execution_count": null,
   "metadata": {},
   "outputs": [],
   "source": [
    "cnopts = pysftp.CnOpts()\n",
    "cnopts.hostkeys = None"
   ]
  },
  {
   "cell_type": "code",
   "execution_count": null,
   "metadata": {},
   "outputs": [],
   "source": [
    "cnopts.get_hostkey('192.168.254.254')"
   ]
  },
  {
   "cell_type": "code",
   "execution_count": null,
   "metadata": {},
   "outputs": [],
   "source": [
    "import pysftp"
   ]
  },
  {
   "cell_type": "code",
   "execution_count": null,
   "metadata": {},
   "outputs": [],
   "source": [
    "pysftp.CnOpts.hostkeys"
   ]
  },
  {
   "cell_type": "code",
   "execution_count": null,
   "metadata": {},
   "outputs": [],
   "source": [
    "my_xps = XPS()\n",
    "ssid = my_xps.TCP_ConnectToServer('192.168.254.254', 5001, 10)\n",
    "my_xps.Login(ssid,'Administrator', 'Administrator')\n",
    "err, firmware_version = my_xps.FirmwareVersionGet(ssid)"
   ]
  },
  {
   "cell_type": "code",
   "execution_count": null,
   "metadata": {},
   "outputs": [],
   "source": [
    "err"
   ]
  },
  {
   "cell_type": "code",
   "execution_count": null,
   "metadata": {},
   "outputs": [],
   "source": [
    "firmware_version"
   ]
  },
  {
   "cell_type": "code",
   "execution_count": null,
   "metadata": {},
   "outputs": [],
   "source": [
    "my_xps."
   ]
  },
  {
   "cell_type": "code",
   "execution_count": null,
   "metadata": {},
   "outputs": [],
   "source": []
  }
 ],
 "metadata": {
  "kernelspec": {
   "display_name": "Python 3",
   "language": "python",
   "name": "python3"
  },
  "language_info": {
   "codemirror_mode": {
    "name": "ipython",
    "version": 3
   },
   "file_extension": ".py",
   "mimetype": "text/x-python",
   "name": "python",
   "nbconvert_exporter": "python",
   "pygments_lexer": "ipython3",
   "version": "3.7.7"
  }
 },
 "nbformat": 4,
 "nbformat_minor": 4
}
