{
 "cells": [
  {
   "cell_type": "code",
   "execution_count": 1,
   "metadata": {},
   "outputs": [],
   "source": [
    "from pyModbusTCP.client import ModbusClient\n",
    "import time"
   ]
  },
  {
   "cell_type": "code",
   "execution_count": 2,
   "metadata": {},
   "outputs": [],
   "source": [
    "# TCP auto connect on first modbus request\n",
    "c = ModbusClient(host=\"192.168.1.3\", port=502, auto_open=True)"
   ]
  },
  {
   "cell_type": "code",
   "execution_count": 3,
   "metadata": {},
   "outputs": [
    {
     "data": {
      "text/plain": [
       "True"
      ]
     },
     "execution_count": 3,
     "metadata": {},
     "output_type": "execute_result"
    }
   ],
   "source": [
    "c = ModbusClient()\n",
    "c.host(\"192.168.1.3\")\n",
    "c.port(502)\n",
    "# managing TCP sessions with call to c.open()/c.close()\n",
    "c.open()"
   ]
  },
  {
   "cell_type": "code",
   "execution_count": null,
   "metadata": {},
   "outputs": [],
   "source": [
    "if c.open():\n",
    "    thermocouple_type = c.read_holding_registers(11000, 1)\n",
    "    mfg_info = c.read_holding_registers(60000, 27)\n",
    "    dev_cfg = c.read_holding_registers(10000, 6)  \n",
    "    c.close()"
   ]
  },
  {
   "cell_type": "code",
   "execution_count": null,
   "metadata": {},
   "outputs": [],
   "source": [
    "if c.open():\n",
    "    thermocouple_type = c.read_input_registers(5000, 1)\n",
    "    c.close()"
   ]
  },
  {
   "cell_type": "code",
   "execution_count": null,
   "metadata": {},
   "outputs": [],
   "source": [
    "while True:\n",
    "    if c.is_open():\n",
    "        ana_input = c.read_input_registers(5000, 1)\n",
    "    else:\n",
    "        c.open()\n",
    "    time.sleep(1)"
   ]
  },
  {
   "cell_type": "code",
   "execution_count": null,
   "metadata": {},
   "outputs": [],
   "source": [
    "ana_input"
   ]
  },
  {
   "cell_type": "code",
   "execution_count": null,
   "metadata": {},
   "outputs": [],
   "source": [
    "mfg_info"
   ]
  },
  {
   "cell_type": "code",
   "execution_count": null,
   "metadata": {},
   "outputs": [],
   "source": [
    "dev_cfg"
   ]
  },
  {
   "cell_type": "code",
   "execution_count": 19,
   "metadata": {},
   "outputs": [
    {
     "name": "stdout",
     "output_type": "stream",
     "text": [
      "Current Pressure: 59.24 psi\n",
      "Current Pressure: 58.69 psi\n",
      "Current Pressure: 58.50 psi\n",
      "Current Pressure: 58.50 psi\n",
      "Current Pressure: 58.50 psi\n",
      "Current Pressure: 58.69 psi\n",
      "Current Pressure: 59.24 psi\n",
      "Current Pressure: 59.24 psi\n",
      "Current Pressure: 59.33 psi\n"
     ]
    },
    {
     "ename": "KeyboardInterrupt",
     "evalue": "",
     "output_type": "error",
     "traceback": [
      "\u001b[1;31m---------------------------------------------------------------------------\u001b[0m",
      "\u001b[1;31mKeyboardInterrupt\u001b[0m                         Traceback (most recent call last)",
      "\u001b[1;32m<ipython-input-19-b9281be2da29>\u001b[0m in \u001b[0;36m<module>\u001b[1;34m\u001b[0m\n\u001b[0;32m     29\u001b[0m \u001b[1;33m\u001b[0m\u001b[0m\n\u001b[0;32m     30\u001b[0m     \u001b[1;31m# sleep 2s before next polling\u001b[0m\u001b[1;33m\u001b[0m\u001b[1;33m\u001b[0m\u001b[1;33m\u001b[0m\u001b[0m\n\u001b[1;32m---> 31\u001b[1;33m     \u001b[0mtime\u001b[0m\u001b[1;33m.\u001b[0m\u001b[0msleep\u001b[0m\u001b[1;33m(\u001b[0m\u001b[1;36m0.5\u001b[0m\u001b[1;33m)\u001b[0m\u001b[1;33m\u001b[0m\u001b[1;33m\u001b[0m\u001b[0m\n\u001b[0m",
      "\u001b[1;31mKeyboardInterrupt\u001b[0m: "
     ]
    }
   ],
   "source": [
    "from pyModbusTCP.client import ModbusClient\n",
    "import time\n",
    "\n",
    "SERVER_HOST = \"192.168.1.3\"\n",
    "SERVER_PORT = 502\n",
    "\n",
    "c = ModbusClient()\n",
    "\n",
    "# uncomment this line to see debug message\n",
    "#c.debug(True)\n",
    "\n",
    "# define modbus server host, port\n",
    "c.host(SERVER_HOST)\n",
    "c.port(SERVER_PORT)\n",
    "\n",
    "while True:\n",
    "    # open or reconnect TCP to server\n",
    "    if not c.is_open():\n",
    "        if not c.open():\n",
    "            print(\"unable to connect to \"+SERVER_HOST+\":\"+str(SERVER_PORT))\n",
    "\n",
    "    # if open() is ok, read coils (modbus function 0x01)\n",
    "    if c.is_open():\n",
    "        # read 10 bits at address 0, store result in regs list\n",
    "        dev_cfg = c.read_input_registers(5000, 1)[0]\n",
    "        # if success display registers\n",
    "        if dev_cfg:\n",
    "            print(\"Current Pressure: {:.2f} psi\".format(dev_cfg/32767*3000))\n",
    "\n",
    "    # sleep 2s before next polling\n",
    "    time.sleep(0.5)"
   ]
  },
  {
   "cell_type": "code",
   "execution_count": 13,
   "metadata": {},
   "outputs": [
    {
     "data": {
      "text/plain": [
       "59.23642689291055"
      ]
     },
     "execution_count": 13,
     "metadata": {},
     "output_type": "execute_result"
    }
   ],
   "source": [
    "float(c.read_input_registers(5000,1)[0])/32767*3000"
   ]
  },
  {
   "cell_type": "code",
   "execution_count": null,
   "metadata": {},
   "outputs": [],
   "source": []
  }
 ],
 "metadata": {
  "kernelspec": {
   "display_name": "Python 3",
   "language": "python",
   "name": "python3"
  },
  "language_info": {
   "codemirror_mode": {
    "name": "ipython",
    "version": 3
   },
   "file_extension": ".py",
   "mimetype": "text/x-python",
   "name": "python",
   "nbconvert_exporter": "python",
   "pygments_lexer": "ipython3",
   "version": "3.7.6"
  }
 },
 "nbformat": 4,
 "nbformat_minor": 2
}
