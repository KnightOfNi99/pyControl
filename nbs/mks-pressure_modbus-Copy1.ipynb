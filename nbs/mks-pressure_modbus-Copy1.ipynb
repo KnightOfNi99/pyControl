{
 "cells": [
  {
   "cell_type": "code",
   "execution_count": 2,
   "metadata": {},
   "outputs": [],
   "source": [
    "from pyModbusTCP.client import ModbusClient\n",
    "import time\n",
    "import numpy as np"
   ]
  },
  {
   "cell_type": "code",
   "execution_count": 4,
   "metadata": {},
   "outputs": [],
   "source": [
    "# TCP auto connect on first modbus request\n",
    "c = ModbusClient(host=\"192.168.1.3\", port=502, auto_open=True)"
   ]
  },
  {
   "cell_type": "code",
   "execution_count": 114,
   "metadata": {},
   "outputs": [],
   "source": [
    "def current_pressure():\n",
    "    p = c.read_input_registers(5000, 1)[0]/32767*3000 # transform provided by MKS\n",
    "    pressure = int(p)\n",
    "    return pressure"
   ]
  },
  {
   "cell_type": "code",
   "execution_count": 115,
   "metadata": {},
   "outputs": [
    {
     "data": {
      "text/plain": [
       "8"
      ]
     },
     "execution_count": 115,
     "metadata": {},
     "output_type": "execute_result"
    }
   ],
   "source": [
    "current_pressure()"
   ]
  },
  {
   "cell_type": "code",
   "execution_count": 116,
   "metadata": {},
   "outputs": [],
   "source": [
    "def open_valve(name):\n",
    "    if name == \"S1\":\n",
    "        c.write_single_register(5001,32768) \n",
    "    elif name == \"S2\":\n",
    "        c.write_single_register(5002,32768) \n",
    "    elif name == \"S3\":\n",
    "        c.write_single_register(5003,32768) \n",
    "        \n",
    "def close_valve(name):\n",
    "    if name == \"S1\":\n",
    "        c.write_single_register(5001,0) \n",
    "    elif name == \"S2\":\n",
    "        c.write_single_register(5002,0) \n",
    "    elif name == \"S3\":\n",
    "        c.write_single_register(5003,0)"
   ]
  },
  {
   "cell_type": "code",
   "execution_count": 69,
   "metadata": {},
   "outputs": [],
   "source": [
    "class solenoid:\n",
    "    ''' opens and closes valve. Takes Modbus Holding register value as argument.\n",
    "    \n",
    "    Example:\n",
    "    \n",
    "    S1 = solenoid(5001)\n",
    "    S1.open_valve()\n",
    "    \n",
    "    '''\n",
    "    def __init__(self, reg_value):\n",
    "        self.reg_value = reg_value\n",
    "        \n",
    "    def open_valve(self):\n",
    "        c.write_single_register(self.reg_value,32768) # open\n",
    "    def close_valve(self):\n",
    "        c.write_single_register(self.reg_value,0)"
   ]
  },
  {
   "cell_type": "code",
   "execution_count": 73,
   "metadata": {},
   "outputs": [],
   "source": [
    "S1 = solenoid(5001)\n",
    "S2 = solenoid(5002)\n",
    "S3 = solenoid(5003)\n",
    "S1.close_valve()"
   ]
  },
  {
   "cell_type": "code",
   "execution_count": 32,
   "metadata": {},
   "outputs": [],
   "source": [
    "import pandas as pd\n",
    "\n",
    "import time\n",
    "import os\n",
    "# os.chdir(\"C:\\\\Users\\\\labuser\")\n",
    "df=pd.read_csv(\"../data/dataset-2.csv\")\n",
    "df.head()\n",
    "power_of_file=df[\"power\"]\n",
    "time_of_file=df[\"time\"]\n",
    "pressure_of_file=df[\"pressure\"]\n",
    "gas_of_file=df[\"gas\"]\n",
    "\n"
   ]
  },
  {
   "cell_type": "code",
   "execution_count": 34,
   "metadata": {},
   "outputs": [
    {
     "data": {
      "text/html": [
       "<div>\n",
       "<style scoped>\n",
       "    .dataframe tbody tr th:only-of-type {\n",
       "        vertical-align: middle;\n",
       "    }\n",
       "\n",
       "    .dataframe tbody tr th {\n",
       "        vertical-align: top;\n",
       "    }\n",
       "\n",
       "    .dataframe thead th {\n",
       "        text-align: right;\n",
       "    }\n",
       "</style>\n",
       "<table border=\"1\" class=\"dataframe\">\n",
       "  <thead>\n",
       "    <tr style=\"text-align: right;\">\n",
       "      <th></th>\n",
       "      <th>power</th>\n",
       "      <th>time</th>\n",
       "      <th>gas</th>\n",
       "      <th>pressure</th>\n",
       "      <th>ratio</th>\n",
       "    </tr>\n",
       "  </thead>\n",
       "  <tbody>\n",
       "    <tr>\n",
       "      <th>0</th>\n",
       "      <td>396</td>\n",
       "      <td>9065</td>\n",
       "      <td>Argon</td>\n",
       "      <td>46</td>\n",
       "      <td>1.547278</td>\n",
       "    </tr>\n",
       "    <tr>\n",
       "      <th>1</th>\n",
       "      <td>1703</td>\n",
       "      <td>10481</td>\n",
       "      <td>Argon</td>\n",
       "      <td>96</td>\n",
       "      <td>2.405569</td>\n",
       "    </tr>\n",
       "    <tr>\n",
       "      <th>2</th>\n",
       "      <td>489</td>\n",
       "      <td>15493</td>\n",
       "      <td>Argon</td>\n",
       "      <td>46</td>\n",
       "      <td>1.007314</td>\n",
       "    </tr>\n",
       "    <tr>\n",
       "      <th>3</th>\n",
       "      <td>4962</td>\n",
       "      <td>15074</td>\n",
       "      <td>Argon</td>\n",
       "      <td>36</td>\n",
       "      <td>1.752954</td>\n",
       "    </tr>\n",
       "  </tbody>\n",
       "</table>\n",
       "</div>"
      ],
      "text/plain": [
       "   power   time    gas  pressure     ratio\n",
       "0    396   9065  Argon        46  1.547278\n",
       "1   1703  10481  Argon        96  2.405569\n",
       "2    489  15493  Argon        46  1.007314\n",
       "3   4962  15074  Argon        36  1.752954"
      ]
     },
     "execution_count": 34,
     "metadata": {},
     "output_type": "execute_result"
    }
   ],
   "source": [
    "df"
   ]
  },
  {
   "cell_type": "code",
   "execution_count": 33,
   "metadata": {},
   "outputs": [],
   "source": [
    "import math\n",
    "data2=pd.read_csv(\"../data/dataset-2.csv\")\n",
    "rto=data2[\"ratio\"]\n",
    "y_unique=[]\n",
    "for m in rto:\n",
    "    if m not in y_unique and m!=0 and  math.isnan(m)!=1:y_unique.append(m)"
   ]
  },
  {
   "cell_type": "code",
   "execution_count": 35,
   "metadata": {},
   "outputs": [
    {
     "data": {
      "text/html": [
       "<div>\n",
       "<style scoped>\n",
       "    .dataframe tbody tr th:only-of-type {\n",
       "        vertical-align: middle;\n",
       "    }\n",
       "\n",
       "    .dataframe tbody tr th {\n",
       "        vertical-align: top;\n",
       "    }\n",
       "\n",
       "    .dataframe thead th {\n",
       "        text-align: right;\n",
       "    }\n",
       "</style>\n",
       "<table border=\"1\" class=\"dataframe\">\n",
       "  <thead>\n",
       "    <tr style=\"text-align: right;\">\n",
       "      <th></th>\n",
       "      <th>power</th>\n",
       "      <th>time</th>\n",
       "      <th>gas</th>\n",
       "      <th>pressure</th>\n",
       "      <th>ratio</th>\n",
       "    </tr>\n",
       "  </thead>\n",
       "  <tbody>\n",
       "    <tr>\n",
       "      <th>0</th>\n",
       "      <td>396</td>\n",
       "      <td>9065</td>\n",
       "      <td>Argon</td>\n",
       "      <td>46</td>\n",
       "      <td>1.547278</td>\n",
       "    </tr>\n",
       "    <tr>\n",
       "      <th>1</th>\n",
       "      <td>1703</td>\n",
       "      <td>10481</td>\n",
       "      <td>Argon</td>\n",
       "      <td>96</td>\n",
       "      <td>2.405569</td>\n",
       "    </tr>\n",
       "    <tr>\n",
       "      <th>2</th>\n",
       "      <td>489</td>\n",
       "      <td>15493</td>\n",
       "      <td>Argon</td>\n",
       "      <td>46</td>\n",
       "      <td>1.007314</td>\n",
       "    </tr>\n",
       "    <tr>\n",
       "      <th>3</th>\n",
       "      <td>4962</td>\n",
       "      <td>15074</td>\n",
       "      <td>Argon</td>\n",
       "      <td>36</td>\n",
       "      <td>1.752954</td>\n",
       "    </tr>\n",
       "  </tbody>\n",
       "</table>\n",
       "</div>"
      ],
      "text/plain": [
       "   power   time    gas  pressure     ratio\n",
       "0    396   9065  Argon        46  1.547278\n",
       "1   1703  10481  Argon        96  2.405569\n",
       "2    489  15493  Argon        46  1.007314\n",
       "3   4962  15074  Argon        36  1.752954"
      ]
     },
     "execution_count": 35,
     "metadata": {},
     "output_type": "execute_result"
    }
   ],
   "source": [
    "data2"
   ]
  },
  {
   "cell_type": "code",
   "execution_count": 41,
   "metadata": {},
   "outputs": [
    {
     "data": {
      "text/html": [
       "<div>\n",
       "<style scoped>\n",
       "    .dataframe tbody tr th:only-of-type {\n",
       "        vertical-align: middle;\n",
       "    }\n",
       "\n",
       "    .dataframe tbody tr th {\n",
       "        vertical-align: top;\n",
       "    }\n",
       "\n",
       "    .dataframe thead th {\n",
       "        text-align: right;\n",
       "    }\n",
       "</style>\n",
       "<table border=\"1\" class=\"dataframe\">\n",
       "  <thead>\n",
       "    <tr style=\"text-align: right;\">\n",
       "      <th></th>\n",
       "      <th>power</th>\n",
       "      <th>time</th>\n",
       "      <th>gas</th>\n",
       "      <th>pressure</th>\n",
       "      <th>ratio</th>\n",
       "    </tr>\n",
       "  </thead>\n",
       "  <tbody>\n",
       "    <tr>\n",
       "      <th>0</th>\n",
       "      <td>396</td>\n",
       "      <td>9065</td>\n",
       "      <td>Argon</td>\n",
       "      <td>46</td>\n",
       "      <td>1.547278</td>\n",
       "    </tr>\n",
       "    <tr>\n",
       "      <th>1</th>\n",
       "      <td>1703</td>\n",
       "      <td>10481</td>\n",
       "      <td>Argon</td>\n",
       "      <td>96</td>\n",
       "      <td>2.405569</td>\n",
       "    </tr>\n",
       "    <tr>\n",
       "      <th>2</th>\n",
       "      <td>489</td>\n",
       "      <td>15493</td>\n",
       "      <td>Argon</td>\n",
       "      <td>46</td>\n",
       "      <td>1.007314</td>\n",
       "    </tr>\n",
       "    <tr>\n",
       "      <th>3</th>\n",
       "      <td>4962</td>\n",
       "      <td>15074</td>\n",
       "      <td>Argon</td>\n",
       "      <td>36</td>\n",
       "      <td>1.752954</td>\n",
       "    </tr>\n",
       "    <tr>\n",
       "      <th>4</th>\n",
       "      <td>4962</td>\n",
       "      <td>15074</td>\n",
       "      <td>Argon</td>\n",
       "      <td>36</td>\n",
       "      <td>1.752954</td>\n",
       "    </tr>\n",
       "  </tbody>\n",
       "</table>\n",
       "</div>"
      ],
      "text/plain": [
       "   power   time    gas  pressure     ratio\n",
       "0    396   9065  Argon        46  1.547278\n",
       "1   1703  10481  Argon        96  2.405569\n",
       "2    489  15493  Argon        46  1.007314\n",
       "3   4962  15074  Argon        36  1.752954\n",
       "4   4962  15074  Argon        36  1.752954"
      ]
     },
     "execution_count": 41,
     "metadata": {},
     "output_type": "execute_result"
    }
   ],
   "source": [
    "df=pd.read_csv(\"../data/dataset-2.csv\")\n",
    "power_of_file=df[\"power\"]\n",
    "time_of_file=df[\"time\"]\n",
    "pressure_of_file=df[\"pressure\"]\n",
    "gas_of_file=df[\"gas\"]\n",
    "df.head()"
   ]
  },
  {
   "cell_type": "code",
   "execution_count": 80,
   "metadata": {},
   "outputs": [
    {
     "name": "stdout",
     "output_type": "stream",
     "text": [
      "TRUE\n"
     ]
    }
   ],
   "source": [
    "a = 'Argon'\n",
    "b = 'Argon'\n",
    "\n",
    "if a == b:\n",
    "    print (\"TRUE\")"
   ]
  },
  {
   "cell_type": "code",
   "execution_count": 81,
   "metadata": {},
   "outputs": [
    {
     "data": {
      "text/plain": [
       "'Argon'"
      ]
     },
     "execution_count": 81,
     "metadata": {},
     "output_type": "execute_result"
    }
   ],
   "source": [
    "df.loc[df.index[-1], \"gas\"]"
   ]
  },
  {
   "cell_type": "code",
   "execution_count": 84,
   "metadata": {},
   "outputs": [
    {
     "data": {
      "text/plain": [
       "36"
      ]
     },
     "execution_count": 84,
     "metadata": {},
     "output_type": "execute_result"
    }
   ],
   "source": [
    "data2.iloc[-1]['gas']"
   ]
  },
  {
   "cell_type": "code",
   "execution_count": 117,
   "metadata": {},
   "outputs": [],
   "source": [
    "if read_pressure() < df.iloc[-1]['pressure']:\n",
    "    open_valve(\"S1\")"
   ]
  },
  {
   "cell_type": "code",
   "execution_count": 86,
   "metadata": {},
   "outputs": [],
   "source": [
    "# Can we shorten this ?\n",
    "\n",
    "if df.iloc[-1]['gas'] == 'Argon':\n",
    "    valve_name = \"S1\"\n",
    "    \n",
    "    # Backfill chamber without other gas\n",
    "    if df.iloc[-1]['gas'] != data2.iloc[-1]['gas']:\n",
    "        open_valve(\"S3\")\n",
    "        open_valve(valve_name)\n",
    "        time.sleep(300)\n",
    "        close_valve(\"S3\")\n",
    "        \n",
    "        \n",
    "        if current_pressure() < df.iloc[-1]['pressure']:\n",
    "            while current_pressure() < df.iloc[-1]['pressure']:\n",
    "                open_valve(valve_name) # open\n",
    "            else:\n",
    "                close_valve(valve_name)\n",
    "        else:\n",
    "            while current_pressure() >= df.iloc[-1]['pressure']:\n",
    "                open_valve(\"S3\")\n",
    "            else:\n",
    "                close_valve(\"S3\")\n",
    "    else:\n",
    "        if current_pressure() < df.iloc[-1]['pressure']:\n",
    "            while current_pressure() < df.iloc[-1]['pressure']:\n",
    "                open_valve(valve_name) # open\n",
    "            else:\n",
    "                close_valve(valve_name)\n",
    "        else:\n",
    "            while current_pressure() >= df.iloc[-1]['pressure']:\n",
    "                open_valve(\"S3\")\n",
    "            else:\n",
    "                close_valve(\"S3\")\n",
    "                \n",
    "elif df.iloc[-1]['gas'] == 'Nitrogen':\n",
    "    valve_name = \"S2\"\n",
    "    \n",
    "    # Backfill chamber without other gas\n",
    "    if df.iloc[-1]['gas'] != data2.iloc[-1]['gas']:\n",
    "        open_valve(\"S3\")\n",
    "        open_valve(valve_name)\n",
    "        time.sleep(300)\n",
    "        close_valve(\"S3\")\n",
    "        \n",
    "        # Can we shorten this ?\n",
    "        if current_pressure() < df.iloc[-1]['pressure']:\n",
    "            while current_pressure() < df.iloc[-1]['pressure']:\n",
    "                open_valve(valve_name) # open\n",
    "            else:\n",
    "                close_valve(valve_name)\n",
    "        else:\n",
    "            while current_pressure() >= df.iloc[-1]['pressure']:\n",
    "                open_valve(\"S3\")\n",
    "            else:\n",
    "                close_valve(\"S3\")\n",
    "    else:\n",
    "        if current_pressure() < df.iloc[-1]['pressure']:\n",
    "            while current_pressure() < df.iloc[-1]['pressure']:\n",
    "                open_valve(valve_name) # open\n",
    "            else:\n",
    "                close_valve(valve_name)\n",
    "        else:\n",
    "            while current_pressure() >= df.iloc[-1]['pressure']:\n",
    "                open_valve(\"S3\")\n",
    "            else:\n",
    "                close_valve(\"S3\")"
   ]
  },
  {
   "cell_type": "code",
   "execution_count": null,
   "metadata": {},
   "outputs": [],
   "source": []
  },
  {
   "cell_type": "code",
   "execution_count": null,
   "metadata": {},
   "outputs": [],
   "source": []
  },
  {
   "cell_type": "code",
   "execution_count": null,
   "metadata": {},
   "outputs": [],
   "source": []
  },
  {
   "cell_type": "markdown",
   "metadata": {},
   "source": [
    "## Misc."
   ]
  },
  {
   "cell_type": "code",
   "execution_count": 4,
   "metadata": {},
   "outputs": [
    {
     "name": "stdout",
     "output_type": "stream",
     "text": [
      "Current Pressure: 58.78 psi\n",
      "Current Pressure: 59.33 psi\n",
      "Current Pressure: 59.42 psi\n",
      "Current Pressure: 59.33 psi\n",
      "Current Pressure: 59.33 psi\n",
      "Current Pressure: 59.05 psi\n",
      "Current Pressure: 58.60 psi\n",
      "Current Pressure: 58.60 psi\n",
      "Current Pressure: 58.50 psi\n",
      "Current Pressure: 58.60 psi\n",
      "Current Pressure: 58.60 psi\n",
      "Current Pressure: 58.78 psi\n"
     ]
    },
    {
     "ename": "KeyboardInterrupt",
     "evalue": "",
     "output_type": "error",
     "traceback": [
      "\u001b[1;31m---------------------------------------------------------------------------\u001b[0m",
      "\u001b[1;31mKeyboardInterrupt\u001b[0m                         Traceback (most recent call last)",
      "\u001b[1;32m<ipython-input-4-fd7486b3dacf>\u001b[0m in \u001b[0;36m<module>\u001b[1;34m\u001b[0m\n\u001b[0;32m     26\u001b[0m \u001b[1;33m\u001b[0m\u001b[0m\n\u001b[0;32m     27\u001b[0m     \u001b[1;31m# sleep 2s before next polling\u001b[0m\u001b[1;33m\u001b[0m\u001b[1;33m\u001b[0m\u001b[1;33m\u001b[0m\u001b[0m\n\u001b[1;32m---> 28\u001b[1;33m     \u001b[0mtime\u001b[0m\u001b[1;33m.\u001b[0m\u001b[0msleep\u001b[0m\u001b[1;33m(\u001b[0m\u001b[1;36m0.5\u001b[0m\u001b[1;33m)\u001b[0m\u001b[1;33m\u001b[0m\u001b[1;33m\u001b[0m\u001b[0m\n\u001b[0m",
      "\u001b[1;31mKeyboardInterrupt\u001b[0m: "
     ]
    }
   ],
   "source": [
    "SERVER_HOST = \"192.168.1.3\"\n",
    "SERVER_PORT = 502\n",
    "\n",
    "c = ModbusClient()\n",
    "\n",
    "# uncomment this line to see debug message\n",
    "#c.debug(True)\n",
    "\n",
    "# define modbus server host, port\n",
    "c.host(SERVER_HOST)\n",
    "c.port(SERVER_PORT)\n",
    "\n",
    "while True:\n",
    "    # open or reconnect TCP to server\n",
    "    if not c.is_open():\n",
    "        if not c.open():\n",
    "            print(\"unable to connect to \"+SERVER_HOST+\":\"+str(SERVER_PORT))\n",
    "\n",
    "    # if open() is ok, read coils (modbus function 0x01)\n",
    "    if c.is_open():\n",
    "        # read 10 bits at address 0, store result in regs list\n",
    "        pressure = c.read_input_registers(5000, 1)[0] # 5000 is analog output 1, see MKS PAC 100 manual\n",
    "        # if success display registers\n",
    "        if pressure:\n",
    "            print(\"Current Pressure: {:.2f} psi\".format(pressure/32767*3000)) # 32767 given by MKS * 3000psi\n",
    "\n",
    "    # sleep 2s before next polling\n",
    "    time.sleep(0.5)"
   ]
  },
  {
   "cell_type": "markdown",
   "metadata": {},
   "source": []
  },
  {
   "cell_type": "code",
   "execution_count": 2,
   "metadata": {},
   "outputs": [],
   "source": [
    "# TCP auto connect on first modbus request\n",
    "c = ModbusClient(host=\"192.168.1.3\", port=502, auto_open=True)"
   ]
  },
  {
   "cell_type": "code",
   "execution_count": 3,
   "metadata": {},
   "outputs": [
    {
     "data": {
      "text/plain": [
       "True"
      ]
     },
     "execution_count": 3,
     "metadata": {},
     "output_type": "execute_result"
    }
   ],
   "source": [
    "c = ModbusClient()\n",
    "c.host(\"192.168.1.3\")\n",
    "c.port(502)\n",
    "# managing TCP sessions with call to c.open()/c.close()\n",
    "c.open()"
   ]
  },
  {
   "cell_type": "code",
   "execution_count": null,
   "metadata": {},
   "outputs": [],
   "source": [
    "if c.open():\n",
    "    thermocouple_type = c.read_holding_registers(11000, 1)\n",
    "    mfg_info = c.read_holding_registers(60000, 27)\n",
    "    dev_cfg = c.read_holding_registers(10000, 6)  \n",
    "    c.close()"
   ]
  }
 ],
 "metadata": {
  "kernelspec": {
   "display_name": "Python 3",
   "language": "python",
   "name": "python3"
  },
  "language_info": {
   "codemirror_mode": {
    "name": "ipython",
    "version": 3
   },
   "file_extension": ".py",
   "mimetype": "text/x-python",
   "name": "python",
   "nbconvert_exporter": "python",
   "pygments_lexer": "ipython3",
   "version": "3.7.6"
  }
 },
 "nbformat": 4,
 "nbformat_minor": 2
}
