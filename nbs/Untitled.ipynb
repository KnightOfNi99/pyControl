{
 "cells": [
  {
   "cell_type": "code",
   "execution_count": 1,
   "metadata": {},
   "outputs": [],
   "source": [
    "import logging\n",
    "log = logging.getLogger(__name__)\n",
    "log.addHandler(logging.NullHandler())\n",
    "\n",
    "import sys\n",
    "import tempfile\n",
    "import random\n",
    "from time import sleep\n",
    "from pymeasure.log import console_log\n",
    "from pymeasure.display.Qt import QtGui\n",
    "from pymeasure.display.windows import ManagedWindow\n",
    "from pymeasure.experiment import Procedure, Results\n",
    "from pymeasure.experiment import IntegerParameter, FloatParameter, Parameter"
   ]
  },
  {
   "cell_type": "code",
   "execution_count": 2,
   "metadata": {},
   "outputs": [],
   "source": [
    "class RandomProcedure(Procedure):\n",
    "\n",
    "    iterations = IntegerParameter('Loop Iterations')\n",
    "    delay = FloatParameter('Position', units='mm', default=0.2)\n",
    "    seed = Parameter('Random Seed', default='12345')\n",
    "\n",
    "    DATA_COLUMNS = ['Iteration', 'Random Number']\n",
    "\n",
    "    def startup(self):\n",
    "        log.info(\"Setting the seed of the random number generator\")\n",
    "        random.seed(self.seed)\n",
    "\n",
    "    def execute(self):\n",
    "        log.info(\"Starting the loop of %d iterations\" % self.iterations)\n",
    "        for i in range(self.iterations):\n",
    "            data = {\n",
    "                'Iteration': i,\n",
    "                'Random Number': random.random()\n",
    "            }\n",
    "            self.emit('results', data)\n",
    "            log.debug(\"Emitting results: %s\" % data)\n",
    "            sleep(self.delay)\n",
    "            if self.should_stop():\n",
    "                log.warning(\"Caught the stop flag in the procedure\")\n",
    "                break\n",
    "\n",
    "\n",
    "class MainWindow(ManagedWindow):\n",
    "\n",
    "    def __init__(self):\n",
    "        super(MainWindow, self).__init__(\n",
    "            procedure_class=RandomProcedure,\n",
    "            inputs=['iterations', 'delay', 'seed'],\n",
    "            displays=['iterations', 'delay', 'seed'],\n",
    "            x_axis='Iteration',\n",
    "            y_axis='Random Number'\n",
    "        )\n",
    "        self.setWindowTitle('GUI Example')\n",
    "\n",
    "    def queue(self):\n",
    "        filename = tempfile.mktemp()\n",
    "\n",
    "        procedure = self.make_procedure()\n",
    "        results = Results(procedure, filename)\n",
    "        experiment = self.new_experiment(results)\n",
    "\n",
    "        self.manager.queue(experiment)"
   ]
  },
  {
   "cell_type": "code",
   "execution_count": 3,
   "metadata": {},
   "outputs": [
    {
     "name": "stderr",
     "output_type": "stream",
     "text": [
      "Exception in thread Thread-6:\n",
      "Traceback (most recent call last):\n",
      "  File \"C:\\Users\\labuser\\Anaconda3\\envs\\controller\\lib\\site-packages\\zmq\\sugar\\socket.py\", line 430, in send_multipart\n",
      "    memoryview(msg)\n",
      "TypeError: memoryview: a bytes-like object is required, not 'int'\n",
      "\n",
      "During handling of the above exception, another exception occurred:\n",
      "\n",
      "Traceback (most recent call last):\n",
      "  File \"C:\\Users\\labuser\\Anaconda3\\envs\\controller\\lib\\threading.py\", line 917, in _bootstrap_inner\n",
      "    self.run()\n",
      "  File \"C:\\Users\\labuser\\Anaconda3\\envs\\controller\\lib\\site-packages\\pymeasure\\experiment\\workers.py\", line 161, in run\n",
      "    self.update_status(Procedure.RUNNING)\n",
      "  File \"C:\\Users\\labuser\\Anaconda3\\envs\\controller\\lib\\site-packages\\pymeasure\\experiment\\workers.py\", line 115, in update_status\n",
      "    self.emit('status', status)\n",
      "  File \"C:\\Users\\labuser\\Anaconda3\\envs\\controller\\lib\\site-packages\\pymeasure\\experiment\\workers.py\", line 95, in emit\n",
      "    self.publisher.send_serialized((topic, record), serialize=cloudpickle.dumps)\n",
      "  File \"C:\\Users\\labuser\\Anaconda3\\envs\\controller\\lib\\site-packages\\zmq\\sugar\\socket.py\", line 515, in send_serialized\n",
      "    return self.send_multipart(frames, flags=flags, copy=copy, **kwargs)\n",
      "  File \"C:\\Users\\labuser\\Anaconda3\\envs\\controller\\lib\\site-packages\\zmq\\sugar\\socket.py\", line 437, in send_multipart\n",
      "    i, rmsg,\n",
      "TypeError: Frame 0 (128) does not support the buffer interface.\n",
      "\n"
     ]
    },
    {
     "ename": "SystemExit",
     "evalue": "0",
     "output_type": "error",
     "traceback": [
      "An exception has occurred, use %tb to see the full traceback.\n",
      "\u001b[1;31mSystemExit\u001b[0m\u001b[1;31m:\u001b[0m 0\n"
     ]
    },
    {
     "name": "stderr",
     "output_type": "stream",
     "text": [
      "C:\\Users\\labuser\\Anaconda3\\envs\\controller\\lib\\site-packages\\IPython\\core\\interactiveshell.py:3299: UserWarning: To exit: use 'exit', 'quit', or Ctrl-D.\n",
      "  warn(\"To exit: use 'exit', 'quit', or Ctrl-D.\", stacklevel=1)\n"
     ]
    }
   ],
   "source": [
    "if __name__ == \"__main__\":\n",
    "    app = QtGui.QApplication(sys.argv)\n",
    "    window = MainWindow()\n",
    "    window.show()\n",
    "    sys.exit(app.exec_())"
   ]
  },
  {
   "cell_type": "code",
   "execution_count": 6,
   "metadata": {},
   "outputs": [
    {
     "ename": "ModuleNotFoundError",
     "evalue": "No module named 'pyqt'",
     "output_type": "error",
     "traceback": [
      "\u001b[1;31m---------------------------------------------------------------------------\u001b[0m",
      "\u001b[1;31mModuleNotFoundError\u001b[0m                       Traceback (most recent call last)",
      "\u001b[1;32m<ipython-input-6-50a21254fbfd>\u001b[0m in \u001b[0;36m<module>\u001b[1;34m\u001b[0m\n\u001b[1;32m----> 1\u001b[1;33m \u001b[1;32mfrom\u001b[0m \u001b[0mpyqt\u001b[0m \u001b[1;32mimport\u001b[0m \u001b[0mQtGui\u001b[0m  \u001b[1;31m# (the example applies equally well to PySide)\u001b[0m\u001b[1;33m\u001b[0m\u001b[1;33m\u001b[0m\u001b[0m\n\u001b[0m\u001b[0;32m      2\u001b[0m \u001b[1;32mimport\u001b[0m \u001b[0mpyqtgraph\u001b[0m \u001b[1;32mas\u001b[0m \u001b[0mpg\u001b[0m\u001b[1;33m\u001b[0m\u001b[1;33m\u001b[0m\u001b[0m\n\u001b[0;32m      3\u001b[0m \u001b[1;33m\u001b[0m\u001b[0m\n\u001b[0;32m      4\u001b[0m \u001b[1;31m## Always start by initializing Qt (only once per application)\u001b[0m\u001b[1;33m\u001b[0m\u001b[1;33m\u001b[0m\u001b[1;33m\u001b[0m\u001b[0m\n\u001b[0;32m      5\u001b[0m \u001b[0mapp\u001b[0m \u001b[1;33m=\u001b[0m \u001b[0mQtGui\u001b[0m\u001b[1;33m.\u001b[0m\u001b[0mQApplication\u001b[0m\u001b[1;33m(\u001b[0m\u001b[1;33m[\u001b[0m\u001b[1;33m]\u001b[0m\u001b[1;33m)\u001b[0m\u001b[1;33m\u001b[0m\u001b[1;33m\u001b[0m\u001b[0m\n",
      "\u001b[1;31mModuleNotFoundError\u001b[0m: No module named 'pyqt'"
     ]
    }
   ],
   "source": [
    "from pyqt import QtGui  # (the example applies equally well to PySide)\n",
    "import pyqtgraph as pg\n",
    "\n",
    "## Always start by initializing Qt (only once per application)\n",
    "app = QtGui.QApplication([])\n",
    "\n",
    "## Define a top-level widget to hold everything\n",
    "w = QtGui.QWidget()\n",
    "\n",
    "## Create some widgets to be placed inside\n",
    "btn = QtGui.QPushButton('press me')\n",
    "text = QtGui.QLineEdit('enter text')\n",
    "listw = QtGui.QListWidget()\n",
    "plot = pg.PlotWidget()\n",
    "\n",
    "## Create a grid layout to manage the widgets size and position\n",
    "layout = QtGui.QGridLayout()\n",
    "w.setLayout(layout)\n",
    "\n",
    "## Add widgets to the layout in their proper positions\n",
    "layout.addWidget(btn, 0, 0)   # button goes in upper-left\n",
    "layout.addWidget(text, 1, 0)   # text edit goes in middle-left\n",
    "layout.addWidget(listw, 2, 0)  # list widget goes in bottom-left\n",
    "layout.addWidget(plot, 0, 1, 3, 1)  # plot goes on right side, spanning 3 rows\n",
    "\n",
    "## Display the widget as a new window\n",
    "w.show()\n",
    "\n",
    "## Start the Qt event loop\n",
    "app.exec_()"
   ]
  },
  {
   "cell_type": "code",
   "execution_count": null,
   "metadata": {},
   "outputs": [],
   "source": []
  }
 ],
 "metadata": {
  "kernelspec": {
   "display_name": "Python 3",
   "language": "python",
   "name": "python3"
  },
  "language_info": {
   "codemirror_mode": {
    "name": "ipython",
    "version": 3
   },
   "file_extension": ".py",
   "mimetype": "text/x-python",
   "name": "python",
   "nbconvert_exporter": "python",
   "pygments_lexer": "ipython3",
   "version": "3.7.2"
  }
 },
 "nbformat": 4,
 "nbformat_minor": 2
}
