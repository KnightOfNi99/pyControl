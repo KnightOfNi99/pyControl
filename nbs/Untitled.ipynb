{
 "cells": [
  {
   "cell_type": "code",
   "execution_count": null,
   "metadata": {},
   "outputs": [],
   "source": [
    "import logging\n",
    "log = logging.getLogger(__name__)\n",
    "log.addHandler(logging.NullHandler())\n",
    "\n",
    "import random\n",
    "from time import sleep\n",
    "from pymeasure.log import console_log\n",
    "from pymeasure.display import Plotter\n",
    "from pymeasure.experiment import Procedure, Results, Worker\n",
    "from pymeasure.experiment import IntegerParameter, FloatParameter, Parameter\n",
    "from pdb import set_trace"
   ]
  },
  {
   "cell_type": "code",
   "execution_count": null,
   "metadata": {},
   "outputs": [],
   "source": [
    "class RandomProcedure(Procedure):\n",
    "    set_trace()\n",
    "    iterations = IntegerParameter('Loop Iterations')\n",
    "    delay = FloatParameter('Delay Time', units='s', default=0.2)\n",
    "    seed = Parameter('Random Seed', default='12345')\n",
    "\n",
    "    DATA_COLUMNS = ['Iteration', 'Random Number']\n",
    "\n",
    "    def startup(self):\n",
    "        log.info(\"Setting the seed of the random number generator\")\n",
    "        random.seed(self.seed)\n",
    "\n",
    "    def execute(self):\n",
    "        log.info(\"Starting the loop of %d iterations\" % self.iterations)\n",
    "        for i in range(self.iterations):\n",
    "            data = {\n",
    "                'Iteration': i,\n",
    "                'Random Number': random.random()\n",
    "            }\n",
    "            self.emit('results', data)\n",
    "            log.debug(\"Emitting results: %s\" % data)\n",
    "            sleep(self.delay)\n",
    "            if self.should_stop():\n",
    "                log.warning(\"Caught the stop flag in the procedure\")\n",
    "                break"
   ]
  },
  {
   "cell_type": "code",
   "execution_count": null,
   "metadata": {},
   "outputs": [],
   "source": [
    "if __name__ == \"__main__\":\n",
    "    console_log(log)\n",
    "    \n",
    "    set_trace()\n",
    "\n",
    "    log.info(\"Constructing a RandomProcedure\")\n",
    "    procedure = RandomProcedure()\n",
    "    procedure.iterations = 100\n",
    "\n",
    "    data_filename = 'random.csv'\n",
    "    log.info(\"Constructing the Results with a data file: %s\" % data_filename)\n",
    "    results = Results(procedure, data_filename)\n",
    "\n",
    "    log.info(\"Constructing the Plotter\")\n",
    "    plotter = Plotter(results)\n",
    "    plotter.start()\n",
    "    log.info(\"Started the Plotter\")\n",
    "\n",
    "    log.info(\"Constructing the Worker\")\n",
    "    worker = Worker(results)\n",
    "    worker.start()\n",
    "    log.info(\"Started the Worker\")\n",
    "\n",
    "    log.info(\"Joining with the worker in at most 1 hr\")\n",
    "    worker.join(timeout=3600) # wait at most 1 hr (3600 sec)\n",
    "    log.info(\"Finished the measurement\")"
   ]
  },
  {
   "cell_type": "code",
   "execution_count": null,
   "metadata": {},
   "outputs": [],
   "source": []
  }
 ],
 "metadata": {
  "kernelspec": {
   "display_name": "Python 3",
   "language": "python",
   "name": "python3"
  },
  "language_info": {
   "codemirror_mode": {
    "name": "ipython",
    "version": 3
   },
   "file_extension": ".py",
   "mimetype": "text/x-python",
   "name": "python",
   "nbconvert_exporter": "python",
   "pygments_lexer": "ipython3",
   "version": "3.7.2"
  }
 },
 "nbformat": 4,
 "nbformat_minor": 2
}
