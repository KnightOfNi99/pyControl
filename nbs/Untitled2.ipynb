{
 "cells": [
  {
   "cell_type": "code",
   "execution_count": 4,
   "metadata": {},
   "outputs": [],
   "source": [
    "# Import the .NET class library\n",
    "import clr\n",
    "\n",
    "# Import python sys module\n",
    "import sys\n",
    "\n",
    "# Import os module\n",
    "import os\n",
    "\n",
    "# Import System.IO for saving and opening files\n",
    "from System.IO import *\n",
    "\n",
    "# Import c compatible List and String\n",
    "from System import String\n",
    "from System.Collections.Generic import List\n",
    "\n",
    "\n",
    "# Add needed dll references\n",
    "sys.path.append(os.environ['LIGHTFIELD_ROOT'])\n",
    "sys.path.append(os.environ['LIGHTFIELD_ROOT']+\"\\\\AddInViews\")\n",
    "clr.AddReference('PrincetonInstruments.LightFieldViewV5')\n",
    "clr.AddReference('PrincetonInstruments.LightField.AutomationV5')\n",
    "clr.AddReference('PrincetonInstruments.LightFieldAddInSupportServices')\n",
    "\n",
    "# PI imports\n",
    "from PrincetonInstruments.LightField.Automation import Automation\n",
    "from PrincetonInstruments.LightField.AddIns import ExperimentSettings\n",
    "from PrincetonInstruments.LightField.AddIns import DeviceType"
   ]
  },
  {
   "cell_type": "code",
   "execution_count": null,
   "metadata": {},
   "outputs": [],
   "source": [
    "# Import the .NET class library\n",
    "import clr\n",
    "\n",
    "# Import python sys module\n",
    "import sys\n",
    "\n",
    "# Import os module\n",
    "import os\n",
    "\n",
    "# Import System.IO for saving and opening files\n",
    "from System.IO import *\n",
    "\n",
    "# Import c compatible List and String\n",
    "from System import String\n",
    "from System.Collections.Generic import List\n",
    "# from PrincetonInstruments.LightField.AddIns import CameraSettings\n",
    "\n",
    "# Add needed dll references\n",
    "sys.path.append(os.environ['LIGHTFIELD_ROOT'])\n",
    "sys.path.append(os.environ['LIGHTFIELD_ROOT']+\"\\\\AddInViews\")\n",
    "clr.AddReference('PrincetonInstruments.LightFieldViewV5')\n",
    "clr.AddReference('PrincetonInstruments.LightField.AutomationV5')\n",
    "clr.AddReference('PrincetonInstruments.LightFieldAddInSupportServices')\n",
    "\n",
    "# PI imports\n",
    "from PrincetonInstruments.LightField.Automation import Automation\n",
    "from PrincetonInstruments.LightField.AddIns import CameraSettings\n",
    "from PrincetonInstruments.LightField.AddIns import ExperimentSettings\n",
    "from PrincetonInstruments.LightField.AddIns import DeviceType\n",
    "\n",
    "\n",
    "        \n",
    "def save_file(filename):    \n",
    "    # Set the base file name\n",
    "    experiment.SetValue(\n",
    "        ExperimentSettings.FileNameGenerationBaseFileName,\n",
    "        Path.GetFileName(filename))\n",
    "    \n",
    "    # Option to Increment, set to false will not increment\n",
    "    experiment.SetValue(\n",
    "        ExperimentSettings.FileNameGenerationAttachIncrement,\n",
    "        True)\n",
    "\n",
    "    # Option to add date\n",
    "    experiment.SetValue(\n",
    "        ExperimentSettings.FileNameGenerationAttachDate,\n",
    "        True)\n",
    "\n",
    "    # Option to add time\n",
    "    experiment.SetValue(\n",
    "        ExperimentSettings.FileNameGenerationAttachTime,\n",
    "        True)\n",
    "\n",
    "def device_found():\n",
    "    # Find connected device\n",
    "    for device in experiment.ExperimentDevices:\n",
    "        if (device.Type == DeviceType.Camera):\n",
    "            return True\n",
    "     \n",
    "    # If connected device is not a camera inform the user\n",
    "    print(\"Camera not found. Please add a camera and try again.\")\n",
    "    return False  \n",
    "\n",
    "\n",
    "\n",
    "# Create the LightField Application (true for visible)\n",
    "# The 2nd parameter forces LF to load with no experiment \n",
    "auto = Automation(True, List[String]())\n",
    "\n",
    "# Get experiment object\n",
    "experiment = auto.LightFieldApplication.Experiment\n",
    "application= auto.LightFieldApplication\n",
    "file_manager=application.FileManager\n",
    "def set_value(setting, value):    \n",
    "    # Check for existence before setting\n",
    "    # gain, adc rate, or adc quality\n",
    "    if experiment.Exists(setting):\n",
    "        experiment.SetValue(setting, value)\n",
    "\n",
    "\n",
    "# Check for device and inform user if one is needed\n",
    "if (device_found()==True):        \n",
    "    # Check this location for saved spe after running\n",
    "    print(\"Please Enter the Exposure Time:\\n\")\n",
    "    x=int(input())\n",
    "    set_value(CameraSettings.ShutterTimingExposureTime, x)\n",
    "    print(\"Please Enter the Number of Frames\")\n",
    "    y=int(input())\n",
    "    experiment.SetValue(ExperimentSettings.AcquisitionFramesToStore,y)\n",
    "    _file_name = \"myData\"\n",
    "    \n",
    "    # Pass location of saved file\n",
    "    save_file(_file_name)\n",
    "\n",
    "    # Acquire image\n",
    "    experiment.Acquire()\n",
    "\n",
    "    print(String.Format(\"{0} {1}\",\n",
    "                        \"Image saved to\",\n",
    "                        experiment.GetValue(\n",
    "                            ExperimentSettings.\n",
    "                            FileNameGenerationDirectory)))          \n",
    "\n",
    "\n",
    "# Result: image will be saved to LightField's default directory\n"
   ]
  },
  {
   "cell_type": "code",
   "execution_count": 36,
   "metadata": {},
   "outputs": [
    {
     "name": "stdout",
     "output_type": "stream",
     "text": [
      "\n",
      "Opening .spe file...\n"
     ]
    }
   ],
   "source": [
    "\n",
    "if( os.path.exists(directory)):        \n",
    "        print(\"\\nOpening .spe file...\")        \n",
    "\n",
    "        # Returns all .spe files\n",
    "        files = glob.glob(directory +'/*.spe')\n",
    "\n",
    "        # Returns recently acquired .spe file\n",
    "        last_image_acquired = max(files, key=os.path.getctime)\n",
    "\n",
    "        try:\n",
    "            # Open file\n",
    "            file_name = file_manager.OpenFile(\n",
    "                last_image_acquired, FileAccess.Read)\n",
    "\n",
    "            # Access image\n",
    "            imageData = file_name.GetFrame(0, 0);\n",
    "            print\n",
    "            #Dispose of image\n",
    "            #file_name.Dispose()\n",
    "\n",
    "        except IOError:\n",
    "            print (\"Error: can not find file or read data\")\n",
    "        \n",
    "else:\n",
    "    print(\".spe file not found...\")\n"
   ]
  },
  {
   "cell_type": "code",
   "execution_count": 20,
   "metadata": {},
   "outputs": [],
   "source": [
    "import glob\n",
    "directory=\"C:\\\\Users\\\\labuser\\\\Desktop\\\\data\\\\Raman\\\\Vivek\\\\2019-10-08\"\n",
    "files = glob.glob(directory +'/*.spe')"
   ]
  },
  {
   "cell_type": "code",
   "execution_count": 23,
   "metadata": {},
   "outputs": [],
   "source": [
    "last_image_acquired = max(files, key=os.path.getctime)\n"
   ]
  },
  {
   "cell_type": "code",
   "execution_count": 42,
   "metadata": {},
   "outputs": [
    {
     "ename": "RemotingException",
     "evalue": "Failed to connect to an IPC Port: The system cannot find the file specified.\r\n \n\r\nServer stack trace: \r\n   at System.Runtime.Remoting.Channels.Ipc.IpcPort.Connect(String portName, Boolean secure, TokenImpersonationLevel impersonationLevel, Int32 timeout)\r\n   at System.Runtime.Remoting.Channels.Ipc.ConnectionCache.GetConnection(String portName, Boolean secure, TokenImpersonationLevel level, Int32 timeout)\r\n   at System.Runtime.Remoting.Channels.Ipc.IpcClientTransportSink.ProcessMessage(IMessage msg, ITransportHeaders requestHeaders, Stream requestStream, ITransportHeaders& responseHeaders, Stream& responseStream)\r\n   at System.Runtime.Remoting.Channels.BinaryClientFormatterSink.SyncProcessMessage(IMessage msg)\r\n\r\nException rethrown at [0]: \r\n   at System.Runtime.Remoting.Proxies.RealProxy.HandleReturnMessage(IMessage reqMsg, IMessage retMsg)\r\n   at System.Runtime.Remoting.Proxies.RealProxy.PrivateInvoke(MessageData& msgData, Int32 type)\r\n   at PrincetonInstruments.LightField.AddIns.Contracts.IImageData.get_Width()",
     "output_type": "error",
     "traceback": [
      "\u001b[1;31m---------------------------------------------------------------------------\u001b[0m",
      "\u001b[1;31mRemotingException\u001b[0m                         Traceback (most recent call last)",
      "\u001b[1;32m<ipython-input-42-e8df1ecdaa94>\u001b[0m in \u001b[0;36m<module>\u001b[1;34m\u001b[0m\n\u001b[0;32m      2\u001b[0m        \u001b[1;34m'\\t{0} {1}X{2}'\u001b[0m\u001b[1;33m,\u001b[0m\u001b[1;33m\u001b[0m\u001b[1;33m\u001b[0m\u001b[0m\n\u001b[0;32m      3\u001b[0m        \u001b[1;34m\"Image Width and Height:\"\u001b[0m\u001b[1;33m,\u001b[0m\u001b[1;33m\u001b[0m\u001b[1;33m\u001b[0m\u001b[0m\n\u001b[1;32m----> 4\u001b[1;33m        imageData.Width,imageData.Height))\n\u001b[0m\u001b[0;32m      5\u001b[0m \u001b[1;33m\u001b[0m\u001b[0m\n\u001b[0;32m      6\u001b[0m \u001b[0mbuffer\u001b[0m \u001b[1;33m=\u001b[0m \u001b[0mimageData\u001b[0m\u001b[1;33m.\u001b[0m\u001b[0mGetData\u001b[0m\u001b[1;33m(\u001b[0m\u001b[1;33m)\u001b[0m\u001b[1;33m\u001b[0m\u001b[1;33m\u001b[0m\u001b[0m\n",
      "\u001b[1;31mRemotingException\u001b[0m: Failed to connect to an IPC Port: The system cannot find the file specified.\r\n \n\r\nServer stack trace: \r\n   at System.Runtime.Remoting.Channels.Ipc.IpcPort.Connect(String portName, Boolean secure, TokenImpersonationLevel impersonationLevel, Int32 timeout)\r\n   at System.Runtime.Remoting.Channels.Ipc.ConnectionCache.GetConnection(String portName, Boolean secure, TokenImpersonationLevel level, Int32 timeout)\r\n   at System.Runtime.Remoting.Channels.Ipc.IpcClientTransportSink.ProcessMessage(IMessage msg, ITransportHeaders requestHeaders, Stream requestStream, ITransportHeaders& responseHeaders, Stream& responseStream)\r\n   at System.Runtime.Remoting.Channels.BinaryClientFormatterSink.SyncProcessMessage(IMessage msg)\r\n\r\nException rethrown at [0]: \r\n   at System.Runtime.Remoting.Proxies.RealProxy.HandleReturnMessage(IMessage reqMsg, IMessage retMsg)\r\n   at System.Runtime.Remoting.Proxies.RealProxy.PrivateInvoke(MessageData& msgData, Int32 type)\r\n   at PrincetonInstruments.LightField.AddIns.Contracts.IImageData.get_Width()"
     ]
    }
   ],
   "source": [
    " print(String.Format(\n",
    "        '\\t{0} {1}X{2}',\n",
    "        \"Image Width and Height:\",\n",
    "        imageData.Width,imageData.Height))\n",
    "    \n",
    "buffer = imageData.GetData()\n",
    "print(buffer)\n",
    "buffer.getData().shape"
   ]
  },
  {
   "cell_type": "code",
   "execution_count": 31,
   "metadata": {},
   "outputs": [
    {
     "ename": "ObjectDisposedException",
     "evalue": "Cannot access a disposed object.\r\nObject name: 'Automation'.\n   at PrincetonInstruments.LightField.Automation.Automation.CheckDisposed()\r\n   at PrincetonInstruments.LightField.Automation.Automation.get_LightFieldApplication()",
     "output_type": "error",
     "traceback": [
      "\u001b[1;31m---------------------------------------------------------------------------\u001b[0m",
      "\u001b[1;31mObjectDisposedException\u001b[0m                   Traceback (most recent call last)",
      "\u001b[1;32m<ipython-input-31-c411bfed1add>\u001b[0m in \u001b[0;36m<module>\u001b[1;34m\u001b[0m\n\u001b[1;32m----> 1\u001b[1;33m \u001b[0mapplication\u001b[0m\u001b[1;33m=\u001b[0m \u001b[0mauto\u001b[0m\u001b[1;33m.\u001b[0m\u001b[0mLightFieldApplication\u001b[0m\u001b[1;33m\u001b[0m\u001b[1;33m\u001b[0m\u001b[0m\n\u001b[0m\u001b[0;32m      2\u001b[0m \u001b[0mfile_manager\u001b[0m\u001b[1;33m=\u001b[0m\u001b[0mapplication\u001b[0m\u001b[1;33m.\u001b[0m\u001b[0mFileManager\u001b[0m\u001b[1;33m\u001b[0m\u001b[1;33m\u001b[0m\u001b[0m\n",
      "\u001b[1;31mObjectDisposedException\u001b[0m: Cannot access a disposed object.\r\nObject name: 'Automation'.\n   at PrincetonInstruments.LightField.Automation.Automation.CheckDisposed()\r\n   at PrincetonInstruments.LightField.Automation.Automation.get_LightFieldApplication()"
     ]
    }
   ],
   "source": [
    "application= auto.LightFieldApplication\n",
    "file_manager=application.FileManager"
   ]
  },
  {
   "cell_type": "code",
   "execution_count": null,
   "metadata": {},
   "outputs": [],
   "source": []
  }
 ],
 "metadata": {
  "kernelspec": {
   "display_name": "Python 3",
   "language": "python",
   "name": "python3"
  },
  "language_info": {
   "codemirror_mode": {
    "name": "ipython",
    "version": 3
   },
   "file_extension": ".py",
   "mimetype": "text/x-python",
   "name": "python",
   "nbconvert_exporter": "python",
   "pygments_lexer": "ipython3",
   "version": "3.7.1"
  }
 },
 "nbformat": 4,
 "nbformat_minor": 2
}
