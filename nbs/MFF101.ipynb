{
 "cells": [
  {
   "cell_type": "code",
   "execution_count": 1,
   "metadata": {},
   "outputs": [],
   "source": [
    "import ftd2xx  # Thorlabs MFF101\n",
    "import ftd2xx.defines as constants\n",
    "import time"
   ]
  },
  {
   "cell_type": "code",
   "execution_count": null,
   "metadata": {},
   "outputs": [],
   "source": [
    "def open_or_closed(motor, vrb=True):\n",
    "    \"\"\"determine if motor is open or closed\"\"\"\n",
    "    clsd_stat = b'*\\x04\\x06\\x00\\x81P\\x01\\x00\\x02\\x00\\x00\\x90'  # closed byte status\n",
    "    opn_stat  = b'*\\x04\\x06\\x00\\x81P\\x01\\x00\\x01\\x00\\x00\\x90'  # open byte status\n",
    "    st_bit = b\"\\x29\\x04\\x00\\x00\\x21\\x01\"  # request status bits\n",
    "  \n",
    "    motor.write(st_bit);\n",
    "    mot_stat = motor.read(12)  # NOTE: EXACTLY 12 bits need to be read. If too many, python will freeze waiting for more. If too few, you won't get them all this time (but will get some next time you read)\n",
    "    if mot_stat == opn_stat:  # shutter appears to be open\n",
    "        if vrb:  # verbose\n",
    "            print('Shutter appears to be open')\n",
    "            return 1  # 1 for open\n",
    "        elif mot_stat == clsd_stat:  # shutter appears to be closed\n",
    "            if vrb:  # verbose\n",
    "                print('Shutter appears to be closed')\n",
    "                return 0  # 0 for closed\n",
    "            else:\n",
    "                print('I am confused about the shutter position')\n",
    "                return 2  # 2 for confused"
   ]
  },
  {
   "cell_type": "code",
   "execution_count": 2,
   "metadata": {},
   "outputs": [],
   "source": [
    "serial = b\"37000805\"\n",
    "\n",
    "# Raw byte commands for \"MGMSG_MOT_MOVE_JOG\".\n",
    "up_position = b\"\\x6A\\x04\\x00\\x01\\x21\\x01\"  # x01 up\n",
    "down_position = b\"\\x6A\\x04\\x00\\x02\\x21\\x01\"  # x02 down"
   ]
  },
  {
   "cell_type": "code",
   "execution_count": 4,
   "metadata": {},
   "outputs": [
    {
     "name": "stdout",
     "output_type": "stream",
     "text": [
      "{'type': 5, 'id': 67369712, 'description': b'APT Filter Flipper', 'serial': b'37000805'}\n"
     ]
    }
   ],
   "source": [
    "# Recommended d2xx setup instructions from Thorlabs.\n",
    "motor = ftd2xx.openEx(serial)\n",
    "print(motor.getDeviceInfo())\n",
    "motor.setBaudRate(115200)\n",
    "motor.setDataCharacteristics(constants.BITS_8, constants.STOP_BITS_1, constants.PARITY_NONE)\n",
    "time.sleep(.05)\n",
    "motor.purge()\n",
    "time.sleep(.05)\n",
    "motor.resetDevice()\n",
    "motor.setFlowControl(constants.FLOW_RTS_CTS, 0, 0)\n",
    "motor.setRts()\n",
    "\n",
    "# Send raw bytes to USB driver.\n",
    "motor.write(up_position)\n",
    "motor.close()"
   ]
  },
  {
   "cell_type": "code",
   "execution_count": null,
   "metadata": {},
   "outputs": [],
   "source": []
  }
 ],
 "metadata": {
  "kernelspec": {
   "display_name": "Python 3",
   "language": "python",
   "name": "python3"
  },
  "language_info": {
   "codemirror_mode": {
    "name": "ipython",
    "version": 3
   },
   "file_extension": ".py",
   "mimetype": "text/x-python",
   "name": "python",
   "nbconvert_exporter": "python",
   "pygments_lexer": "ipython3",
   "version": "3.7.2"
  }
 },
 "nbformat": 4,
 "nbformat_minor": 2
}
