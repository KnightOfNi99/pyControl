{
 "cells": [
  {
   "cell_type": "markdown",
   "metadata": {},
   "source": [
    "**This code is called from the main program to control the flipper mirror**"
   ]
  },
  {
   "cell_type": "code",
   "execution_count": null,
   "metadata": {},
   "outputs": [],
   "source": [
    "import sys\n",
    "from time import sleep\n",
    "\n",
    "import ftd2xx  # Thorlabs MFF101\n",
    "import ftd2xx.defines as constants\n",
    "from ftd2xx import listDevices\n",
    "\n",
    "FTDIresources = listDevices()\n",
    "FTDIresources\n",
    "serial = FTDIresources[0]\n",
    "\n",
    "\n",
    "def mirror(switch):\n",
    "    \"\"\"Switch 'on' or 'off'\"\"\"\n",
    "    serial = FTDIresources[0]\n",
    "    # Raw byte commands for \"MGMSG_MOT_MOVE_JOG\".\n",
    "#     on = b\"\\x6A\\x04\\x00\\x01\\x21\\x01\"  # x01 up\n",
    "#     off = b\"\\x6A\\x04\\x00\\x02\\x21\\x01\"  # x02 down\n",
    "\n",
    "    if switch == 'on':\n",
    "        motor = ftd2xx.openEx(serial)\n",
    "        print(motor.getDeviceInfo())\n",
    "        motor.setBaudRate(115200)\n",
    "        motor.setDataCharacteristics(\n",
    "            constants.BITS_8, constants.STOP_BITS_1, constants.PARITY_NONE)\n",
    "        sleep(.05)\n",
    "        motor.purge()\n",
    "        sleep(.05)\n",
    "        motor.resetDevice()\n",
    "        motor.setFlowControl(constants.FLOW_RTS_CTS, 0, 0)\n",
    "        motor.setRts()\n",
    "\n",
    "        # Send raw bytes to USB driver.\n",
    "        motor.write(b\"\\x6A\\x04\\x00\\x01\\x21\\x01\")  # up or\n",
    "        motor.close()\n",
    "    else:\n",
    "        motor = ftd2xx.openEx(serial)\n",
    "        print(motor.getDeviceInfo())\n",
    "        motor.setBaudRate(115200)\n",
    "        motor.setDataCharacteristics(\n",
    "            constants.BITS_8, constants.STOP_BITS_1, constants.PARITY_NONE)\n",
    "        sleep(.05)\n",
    "        motor.purge()\n",
    "        sleep(.05)\n",
    "        motor.resetDevice()\n",
    "        motor.setFlowControl(constants.FLOW_RTS_CTS, 0, 0)\n",
    "        motor.setRts()\n",
    "\n",
    "        # Send raw bytes to USB driver.\n",
    "        motor.write(b\"\\x6A\\x04\\x00\\x02\\x21\\x01\")  # up or\n",
    "        motor.close()\n",
    "\n",
    "\n",
    "if __name__ == \"__main__\":\n",
    "    \"\"\"optional location for parameters\"\"\"\n",
    "    print(sys.argv[0])\n"
   ]
  }
 ],
 "metadata": {
  "kernelspec": {
   "display_name": "Python 3",
   "language": "python",
   "name": "python3"
  },
  "language_info": {
   "codemirror_mode": {
    "name": "ipython",
    "version": 3
   },
   "file_extension": ".py",
   "mimetype": "text/x-python",
   "name": "python",
   "nbconvert_exporter": "python",
   "pygments_lexer": "ipython3",
   "version": "3.9.2"
  },
  "varInspector": {
   "cols": {
    "lenName": 16,
    "lenType": 16,
    "lenVar": 40
   },
   "kernels_config": {
    "python": {
     "delete_cmd_postfix": "",
     "delete_cmd_prefix": "del ",
     "library": "var_list.py",
     "varRefreshCmd": "print(var_dic_list())"
    },
    "r": {
     "delete_cmd_postfix": ") ",
     "delete_cmd_prefix": "rm(",
     "library": "var_list.r",
     "varRefreshCmd": "cat(var_dic_list()) "
    }
   },
   "types_to_exclude": [
    "module",
    "function",
    "builtin_function_or_method",
    "instance",
    "_Feature"
   ],
   "window_display": false
  }
 },
 "nbformat": 4,
 "nbformat_minor": 2
}
